{
 "cells": [
  {
   "cell_type": "markdown",
   "metadata": {
    "id": "kQ2oAIVA-M7r"
   },
   "source": [
    "# Asynchronous programming with Python\n",
    "## Module 2\n",
    "\n",
    "### Agenda:\n",
    "\n",
    "* Evolution of asynchronous frameworks.\n",
    "* Meet Trio, a friendly Python library for async concurrency and I/O.\n",
    "* Some practice."
   ]
  },
  {
   "cell_type": "markdown",
   "metadata": {
    "id": "ZvNMOhJr-M70"
   },
   "source": [
    "## Evolution of asynchronous frameworks"
   ]
  },
  {
   "cell_type": "markdown",
   "metadata": {
    "id": "W1JomNBY-M72"
   },
   "source": [
    "Long, long time ago...\n",
    "\n",
    "<br>🔵 ◀︎ 2001 - [Deffered](https://twistedmatrix.com/documents/16.2.0/core/howto/defer.html#visual-explanation) object is introduced with Twisted library.\n",
    "<br>⼁\n",
    "<br>🔵 ◀︎ 2003 - [PEP-255](https://www.python.org/dev/peps/pep-0255): add `yeld` keyword.  Twisted gets generator-based coroutines.\n",
    "<br>⼁\n",
    "<br>⼁\n",
    "<br>🔵 ◀︎ 2006 - [PEP-342](https://www.python.org/dev/peps/pep-342) add `send` and `throw` methods to generator.  Coroutines made simpler.\n",
    "<br>⼁\n",
    "<br>⼁\n",
    "<br>⼁\n",
    "<br>⼁\n",
    "<br>⼁\n",
    "<br>🔵 ◀︎ 2012 - [PEP-380](https://www.python.org/dev/peps/pep-380) add `yield from` construction.  Coroutines performance is improved.\n",
    "<br>⼁\n",
    "<br>🔵 ◀︎ 2014 - [PEP-3156](https://www.python.org/dev/peps/pep-3156) add `asyncio` to Python 3.4.  Coroutines are offitially a part of the standard library.\n",
    "<br>🔵 ◀︎ 2015 - [PEP-492](https://www.python.org/dev/peps/pep-492) add `async` and `await` syntax.  Coroutines are more readable.\n",
    "<br>🔵 ◀︎ 2016 - More syntax updates: asynchronous generators, asynchronous comprehensions.\n",
    "<br>⼁\n",
    "<br>⼁\n",
    "<br>⼁\n",
    "<br>⼁  \n",
    "<br>…\n",
    "\n",
    "20 years after introducing `Deffered`s, asyncio still uses [Deferred-like objects](https://docs.python.org/3/library/asyncio-task.html#awaitables) to run."
   ]
  },
  {
   "cell_type": "markdown",
   "metadata": {
    "id": "9cFIRRnq-M74"
   },
   "source": [
    "---\n",
    "***And Now for Something Completely Different***"
   ]
  },
  {
   "cell_type": "markdown",
   "metadata": {
    "id": "pE24qnwX-M76"
   },
   "source": [
    "<br>…\n",
    "<br>⼁\n",
    "<br>🟣 ◀︎ 2015 - [David Beazley](https://www.dabeaz.com/) introduced [Curio](https://github.com/dabeaz/curio), the next-level\\*, coroutine-only asynchronous library.\n",
    "<br>⼁\n",
    "<br>🟣 ◀︎ 2017 - [Nathaniel Smith](https://vorpus.org/) brought ideas from `Curio` to his new [Trio](https://trio.readthedocs.io/en/stable/index.html) library, implementing structured concurrency\\*\\*.\n",
    "<br>⼁\n",
    "<br>…\n"
   ]
  },
  {
   "cell_type": "markdown",
   "metadata": {
    "id": "lFxZ5YWk-M77"
   },
   "source": [
    "---\n",
    "\n",
    "\\* From the description of Curio:\n",
    "\n",
    "Curio strictly separates asynchronous code from synchronous code. Specifically, *all* functionality related to the asynchronous environment utilizes \"async/await\" features and syntax--without exception. Moreover, interactions between async and sync code is carefully managed through a small set of simple mechanisms such as events and queues. As a result, Curio is small, fast, and significantly easier to reason about.\n",
    "\n",
    "<div align=\"right\">\n",
    "    – <a href=\"https://github.com/dabeaz/curio#curio-is-differen\">https://github.com/dabeaz/curio#curio-is-differen</a>\n",
    "</div>\n",
    "\n",
    "\n",
    "\\*\\* **Structured concurrency** is a programming paradigm aimed at improving the clarity, quality, and development time of a computer program by using a structured approach to concurrent programming. The core concept is the encapsulation of concurrent threads of execution (here encompassing kernel and userland threads and processes) by way of control flow constructs that have clear entry and exit points and that ensure all spawned threads have completed before exit.\n",
    "\n",
    "<div align=\"right\">\n",
    "    – <a href=\"https://en.wikipedia.org/wiki/Concurrent_computing\">Wikipedia / Concurrent computing </a>\n",
    "</div>\n"
   ]
  },
  {
   "cell_type": "markdown",
   "metadata": {
    "id": "n088AkoR-M7-",
    "pycharm": {
     "name": "#%% md\n"
    }
   },
   "source": [
    "## Meet Trio\n",
    "\n",
    "The examples below are taken from [Trio's documentation](https://trio.readthedocs.io/en/stable/).\n",
    "\n",
    "You may also check out the [official tutorial](https://trio.readthedocs.io/en/stable/tutorial.html), it's nice.\n",
    "Also, for great introduction to async/await code and Trio in particular,\n",
    "take a look at this 30-minutes video by [Nathaniel Smith](https://vorpus.org/),\n",
    "the aouthor of Trio:\n",
    "\n",
    "[Nathaniel J. Smith - Trio: Async concurrency for mere mortals - PyCon 2018](https://www.youtube.com/watch?v=oLkfnc_UMcE)"
   ]
  },
  {
   "cell_type": "markdown",
   "metadata": {
    "id": "udwZDj76_OS5"
   },
   "source": [
    "First, install [trio](https://trio.readthedocs.io/en/stable/)\n",
    "and [asks](https://asks.readthedocs.io/en/latest/index.html)"
   ]
  },
  {
   "cell_type": "code",
   "execution_count": null,
   "metadata": {
    "colab": {
     "base_uri": "https://localhost:8080/"
    },
    "id": "4M0Bm64t-M7-",
    "outputId": "c3f6b638-ac0f-460c-f5c5-9a2c260bd389",
    "pycharm": {
     "name": "#%%\n"
    },
    "scrolled": false
   },
   "outputs": [],
   "source": [
    "!pip install trio asks"
   ]
  },
  {
   "cell_type": "markdown",
   "metadata": {},
   "source": [
    "### Sample program\n",
    "Trio programs are like\n",
    "\n",
    "![piping async code with Trio](../images/piping-async-code-trio.png)"
   ]
  },
  {
   "cell_type": "code",
   "execution_count": null,
   "metadata": {
    "colab": {
     "base_uri": "https://localhost:8080/"
    },
    "id": "c-HeaEcf-OX0",
    "outputId": "6b5a3712-d449-4416-e034-512e2f59f1b9"
   },
   "outputs": [],
   "source": [
    "import trio\n",
    "\n",
    "async def double_sleep(x):\n",
    "    print(\"started! sleeping now...\")\n",
    "    await trio.sleep(2 * x)\n",
    "    print(\"exiting!\")\n",
    "\n",
    "trio.run(double_sleep, 3)  # does nothing for 6 seconds then returns"
   ]
  },
  {
   "cell_type": "markdown",
   "metadata": {},
   "source": [
    "### Nursery\n",
    "If you want to spawn child tasks, you should be a responsible parent."
   ]
  },
  {
   "cell_type": "code",
   "execution_count": null,
   "metadata": {
    "colab": {
     "base_uri": "https://localhost:8080/"
    },
    "id": "O2rDploQ-uEF",
    "outputId": "8dfe2bfb-6b7c-41c5-dfc6-50a33106c2af"
   },
   "outputs": [],
   "source": [
    "import trio\n",
    "\n",
    "async def child1():\n",
    "    print(\"  child1: started! sleeping now...\")\n",
    "    await trio.sleep(1)\n",
    "    print(\"  child1: exiting!\")\n",
    "\n",
    "\n",
    "async def child2():\n",
    "    print(\"  child2: started! sleeping now...\")\n",
    "    await trio.sleep(2)\n",
    "    print(\"  child2: exiting!\")\n",
    "\n",
    "\n",
    "async def parent():\n",
    "    print(\"parent: started!\")\n",
    "    async with trio.open_nursery() as nursery:\n",
    "        print(\"parent: spawning child1...\")\n",
    "        nursery.start_soon(child1)\n",
    "\n",
    "        print(\"parent: spawning child2...\")\n",
    "        nursery.start_soon(child2)\n",
    "\n",
    "        print(\"parent: waiting for children to finish...\")\n",
    "        # -- we exit the nursery block here --\n",
    "    print(\"parent: all done!\")\n",
    "\n",
    "\n",
    "trio.run(parent)"
   ]
  },
  {
   "cell_type": "markdown",
   "metadata": {
    "id": "OwdDedEL_3qa",
    "pycharm": {
     "name": "#%% md\n"
    }
   },
   "source": [
    "The children *never* leave the nursery scope, and this is awesome.\n",
    "\n",
    "<div align=\"center\"><img src=\"../images/baby-ducks.jpg\" alt=\"baby ducks under their mother\" width=\"600\"/><small><a href=\"../CREDITS.md\">credits</a></small></div>\n",
    "\n",
    "👉 *The nursery code block is quite similar to the executors from the standard library [concurrent.futures](https://docs.python.org/3/library/concurrent.futures.html).  Even though `nursery.start_soon` is similar to `Executor.submit`, note that nursery by design does not provide any \"future\" object.*👈\n",
    "\n",
    "---\n",
    "#### Nursery and async generators\n",
    "There is a fundamental incompatibility between generators and\n",
    "structural concurrency.  To avoid possible issues, follow these rules:\n",
    "\n",
    "1. Wrap asynchronous generators with\n",
    "[`async_generator.aclosing()`](https://async-generator.readthedocs.io/en/latest/reference.html#context-managers)\n",
    "to ensure they are closed when iteration is finished.\n",
    "2. Never place `yield` under `with` or `async with` context provided by\n",
    "   Trio.  That includes third-party code that may wrap Trio's context\n",
    "   managers, and your own code that does so.\n",
    "\n",
    "   Though, `yield` is allowed\n",
    "   within context manager scope for functions decorated with\n",
    "   `@contextmanager` and `@asynccontextmanager`.\n",
    "\n",
    "For more details, see\n",
    "<https://trio.readthedocs.io/en/stable/reference-core.html?#notes-on-async-generators>"
   ]
  },
  {
   "cell_type": "markdown",
   "metadata": {},
   "source": [
    "### Tasks communication\n",
    "Use [`trio.open_memory_channel`](https://trio.readthedocs.io/en/stable/reference-core.html#using-channels-to-pass-values-between-tasks)\n",
    "to create a pair of send and receive channels."
   ]
  },
  {
   "cell_type": "code",
   "execution_count": null,
   "metadata": {
    "pycharm": {
     "name": "#%%\n"
    }
   },
   "outputs": [],
   "source": [
    "import trio\n",
    "\n",
    "\n",
    "async def main():\n",
    "    async with trio.open_nursery() as nursery:\n",
    "        # Open a channel:\n",
    "        send_channel, receive_channel = trio.open_memory_channel(0)\n",
    "        # Start a producer and a consumer, passing one end of the channel to\n",
    "        # each of them:\n",
    "        nursery.start_soon(producer, send_channel)\n",
    "        nursery.start_soon(consumer, receive_channel)\n",
    "\n",
    "\n",
    "async def producer(send_channel):\n",
    "    async with send_channel:\n",
    "        # Producer sends 3 messages\n",
    "        for i in range(3):\n",
    "            # The producer sends using 'await send_channel.send(...)'\n",
    "            print(f\"sending a message: {i}\")\n",
    "            await send_channel.send(f\"message {i}\")\n",
    "\n",
    "\n",
    "async def consumer(receive_channel):\n",
    "    async with receive_channel:\n",
    "        # The consumer uses an 'async for' loop to receive the values:\n",
    "        async for value in receive_channel:\n",
    "            print(f\"got value {value!r}\")\n",
    "\n",
    "\n",
    "trio.run(main)"
   ]
  },
  {
   "cell_type": "markdown",
   "metadata": {},
   "source": [
    "##### Some practice\n",
    "\n",
    "**1. Update the code above to have two children processing the messages concurrently.\n",
    "Pass some ID to the `consumer` function to be able to\n",
    "tell which child picked which message.**\n",
    "\n",
    "**2. What happens if you have two producers as well?\n",
    "Chances are you will occasionally get some errors.**\n",
    "\n",
    "**2.1. Fix the errors by passing `send_channel.clone()` to producers.**\n",
    "\n",
    "**3. Pass `receive_channel.clone()` to the children to have\n",
    "fan-out behaviour.**"
   ]
  },
  {
   "cell_type": "markdown",
   "metadata": {},
   "source": [
    "👉 *In general you should use unbuffered memory channels by passing `0` to `trio.open_memory_channel`.\n",
    "Buffer should be defined only if it is required to unblock the producer.\n",
    "For details see the [Trio documentation](https://trio.readthedocs.io/en/stable/reference-core.html#buffering-in-channels).*👈"
   ]
  },
  {
   "cell_type": "markdown",
   "metadata": {},
   "source": [
    "### Advanced topic: cancellation scope\n",
    "\n",
    "#### A simple timeout example.\n",
    "Try to run the code below multiple times."
   ]
  },
  {
   "cell_type": "code",
   "execution_count": null,
   "metadata": {
    "pycharm": {
     "name": "#%%\n"
    }
   },
   "outputs": [],
   "source": [
    "from random import randint\n",
    "\n",
    "import asks\n",
    "import trio\n",
    "\n",
    "async def main():\n",
    "    with trio.move_on_after(5):\n",
    "        result = await asks.get(f\"https://httpbin.org/delay/{ randint(1, 10) }\")\n",
    "        print(\"result is\", result)\n",
    "    print(\"with block finished\")\n",
    "\n",
    "\n",
    "trio.run(main)\n"
   ]
  },
  {
   "cell_type": "markdown",
   "metadata": {},
   "source": [
    "#### Nested scopes\n",
    "How do you think, what the code below will print out?"
   ]
  },
  {
   "cell_type": "code",
   "execution_count": null,
   "metadata": {
    "pycharm": {
     "name": "#%%\n"
    }
   },
   "outputs": [],
   "source": [
    "import trio\n",
    "\n",
    "async def main():\n",
    "    print(\"starting...\")\n",
    "    with trio.move_on_after(2):\n",
    "        with trio.move_on_after(4):\n",
    "            await trio.sleep(5)\n",
    "            print(\"sleep finished without error\")\n",
    "        print(\"move_on_after(4) finished without error\")\n",
    "    print(\"move_on_after(2) finished without error\")\n",
    "\n",
    "trio.run(main)"
   ]
  },
  {
   "cell_type": "markdown",
   "metadata": {},
   "source": [
    "##### Some practice\n",
    "\n",
    "**1. Change the values passed to `move_on_after` so that the inner one takes effect.**\n",
    "\n",
    "👉 *You can get `trio.CancelScope` instance using\n",
    "`with trio.move_on_after(...) as cancel_scope:`.\n",
    "Setting `cleanup_scope.shield = True` shields the cancel scope from\n",
    "the upstream cancellation.\n",
    "Setting `cleanup_scope.deadline += N` increases the deadline by N seconds.*👈\n",
    "\n",
    "**2. Instead of changing the values of `move_on_after`,\n",
    "update one of the cancellation scope instances so that the\n",
    "inner one takes effect.**\n"
   ]
  },
  {
   "cell_type": "markdown",
   "metadata": {},
   "source": [
    "#### Shielding\n",
    "How do you think, what the code below will print out?"
   ]
  },
  {
   "cell_type": "code",
   "execution_count": null,
   "metadata": {
    "pycharm": {
     "name": "#%%\n"
    }
   },
   "outputs": [],
   "source": [
    "import trio\n",
    "\n",
    "async def main():\n",
    "    with trio.move_on_after(2) as cancel_scope:\n",
    "        try:\n",
    "            print(\"Starting a blocking request.\")\n",
    "            await asks.get(f\"https://httpbin.org/delay/3\")\n",
    "            print(\"The first request succeeded.\")\n",
    "        except trio.Cancelled:\n",
    "            print(\"The first request timed out, try with a smaller delay.\")\n",
    "            await asks.get(f\"https://httpbin.org/delay/1\")\n",
    "            print(\"The second request succeeded.\")\n",
    "\n",
    "    print(\"Done.\")\n",
    "\n",
    "\n",
    "trio.run(main)"
   ]
  },
  {
   "cell_type": "markdown",
   "metadata": {},
   "source": [
    "##### Some practice\n",
    "\n",
    "**Update the code so that the second request succeeds in case the\n",
    "first one failed.**"
   ]
  },
  {
   "cell_type": "markdown",
   "metadata": {},
   "source": [
    "### Testing\n",
    "For testing Trio with `pytest` use\n",
    "[pytest-trio](https://pytest-trio.readthedocs.io/en/stable/index.html).\n",
    "\n",
    "First, install the test libraries."
   ]
  },
  {
   "cell_type": "code",
   "execution_count": null,
   "metadata": {
    "pycharm": {
     "name": "#%%\n"
    }
   },
   "outputs": [],
   "source": [
    "!pip install pytest pytest-trio ipytest"
   ]
  },
  {
   "cell_type": "code",
   "execution_count": null,
   "metadata": {
    "pycharm": {
     "name": "#%%\n"
    }
   },
   "outputs": [],
   "source": [
    "# Some magic to enable tests in the notebook\n",
    "import ipytest\n",
    "ipytest.autoconfig(clean=True, addopts=(\"--capture=tee-sys\", \"-qq\"))"
   ]
  },
  {
   "cell_type": "markdown",
   "metadata": {},
   "source": [
    "#### Creating a test"
   ]
  },
  {
   "cell_type": "code",
   "execution_count": null,
   "metadata": {
    "pycharm": {
     "name": "#%%\n"
    }
   },
   "outputs": [],
   "source": [
    "%%run_pytest\n",
    "import pytest\n",
    "import trio\n",
    "\n",
    "\n",
    "async def double_sleep(x):\n",
    "    sleep_for = 2 * x\n",
    "    print(\"started! sleeping now...\")\n",
    "    await trio.sleep(sleep_for)\n",
    "    print(\"exiting!\")\n",
    "    return sleep_for\n",
    "\n",
    "\n",
    "@pytest.mark.trio\n",
    "async def test_double_sleep():\n",
    "    assert await double_sleep(3) == 6"
   ]
  },
  {
   "cell_type": "markdown",
   "metadata": {},
   "source": [
    "👉 *If you don't want to mark each test with `@pytest.mark.trio`, there\n",
    "are other ways to enable Trio mode globally,\n",
    "see [the documentation](https://pytest-trio.readthedocs.io/en/stable/reference.html#trio-mode).*👈"
   ]
  },
  {
   "cell_type": "markdown",
   "metadata": {
    "pycharm": {
     "name": "#%% md\n"
    }
   },
   "source": [
    "#### Mock clocks\n",
    "The test above can be speed up with an\n",
    "[autojump_clock](https://pytest-trio.readthedocs.io/en/stable/reference.html#built-in-fixtures)\n",
    "fixture."
   ]
  },
  {
   "cell_type": "code",
   "execution_count": null,
   "metadata": {
    "pycharm": {
     "name": "#%%\n"
    }
   },
   "outputs": [],
   "source": [
    "%%run_pytest\n",
    "\n",
    "@pytest.mark.trio\n",
    "async def test_double_sleep(autojump_clock):\n",
    "    assert await double_sleep(3) == 6\n",
    "    assert trio.current_time() == 6"
   ]
  },
  {
   "cell_type": "markdown",
   "metadata": {},
   "source": [
    "👉 *If you need more control on the clock skews, you can use\n",
    "a [mock_clock](https://pytest-trio.readthedocs.io/en/stable/reference.html#built-in-fixtures).*👈"
   ]
  },
  {
   "cell_type": "markdown",
   "metadata": {
    "pycharm": {
     "name": "#%% md\n"
    }
   },
   "source": [
    "#### Checking checkpoints\n",
    "You should always ensure that your code have enough Trio checkpoints\n",
    "so that context switching and cancellation mechanizm works.\n",
    "\n",
    "Consider this example."
   ]
  },
  {
   "cell_type": "code",
   "execution_count": null,
   "metadata": {
    "pycharm": {
     "name": "#%%\n"
    }
   },
   "outputs": [],
   "source": [
    "%%run_pytest\n",
    "\n",
    "async def broken_double_sleep(x):\n",
    "    sleep_for = 2 * x\n",
    "    print(\"started! sleeping now...\")\n",
    "\n",
    "    if sleep_for % 2:\n",
    "        # This will work only if x is a fractional number\n",
    "        await trio.sleep(sleep_for)\n",
    "\n",
    "    print(\"exiting!\")\n",
    "    return sleep_for\n",
    "\n",
    "\n",
    "@pytest.mark.trio\n",
    "async def test_broken_double_sleep():\n",
    "    with trio.testing.assert_checkpoints():\n",
    "        assert await broken_double_sleep(3) == 6"
   ]
  },
  {
   "cell_type": "markdown",
   "metadata": {
    "pycharm": {
     "name": "#%% md\n"
    }
   },
   "source": [
    "The test passes.  Now, try wrapping the last line with `with trio.testing.assert_checkpoints():`."
   ]
  },
  {
   "cell_type": "markdown",
   "metadata": {
    "pycharm": {
     "name": "#%% md\n"
    }
   },
   "source": [
    "#### References\n",
    "For more useful test utilities refer to\n",
    "[pytest-trio](https://pytest-trio.readthedocs.io/en/stable/index.html)\n",
    "and [trio.testing](https://trio.readthedocs.io/en/stable/reference-testing.html#module-trio.testing)\n",
    "documentation.\n",
    "\n",
    "## Conclusion\n",
    "Trio helps to write code with a focus on usability and correctness.\n",
    "It makes it a great framework to create your first asynchronous\n",
    "application.\n",
    "\n",
    "The downside of Trio is that it is not as \"mainstream\" as\n",
    "`asyncio`.  Even though Trio ecosystem is robust, you may find it\n",
    "hard to get libraries for the cases where `asyncio` is already used."
   ]
  },
  {
   "cell_type": "markdown",
   "metadata": {},
   "source": [
    "<span style=\"font-size: x-large\">Add your code below:</span>"
   ]
  },
  {
   "cell_type": "code",
   "execution_count": null,
   "metadata": {
    "pycharm": {
     "name": "#%%\n"
    }
   },
   "outputs": [],
   "source": []
  }
 ],
 "metadata": {
  "colab": {
   "collapsed_sections": [],
   "name": "Module2-Asynchronous-programming-with-Python.ipynb",
   "provenance": []
  },
  "kernelspec": {
   "display_name": "Python 3",
   "language": "python",
   "name": "python3"
  },
  "language_info": {
   "codemirror_mode": {
    "name": "ipython",
    "version": 3
   },
   "file_extension": ".py",
   "mimetype": "text/x-python",
   "name": "python",
   "nbconvert_exporter": "python",
   "pygments_lexer": "ipython3",
   "version": "3.7.6"
  }
 },
 "nbformat": 4,
 "nbformat_minor": 1
}