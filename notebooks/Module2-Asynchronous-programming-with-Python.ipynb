{
 "cells": [
  {
   "cell_type": "markdown",
   "metadata": {},
   "source": [
    "# Asynchronous programming with Python\n",
    "## Module 2\n",
    "\n",
    "### Agenda:\n",
    "\n",
    "* Evolution of asynchronous frameworks.\n",
    "* Meet Trio, a friendly Python library for async concurrency and I/O.\n",
    "* Some practice."
   ]
  },
  {
   "cell_type": "markdown",
   "metadata": {},
   "source": [
    "## Evolution of asynchronous frameworks"
   ]
  },
  {
   "cell_type": "markdown",
   "metadata": {},
   "source": [
    "Long, long time ago...\n",
    "\n",
    "🔵 ◀︎ 2001 - [Deffered](https://twistedmatrix.com/documents/16.2.0/core/howto/defer.html#visual-explanation) object is introduced with Twisted library.  \n",
    "⼁  \n",
    "🔵 ◀︎ 2003 - [PEP-255](https://www.python.org/dev/peps/pep-0255): add `yeld` keyword.  Twisted gets generator-based coroutines.  \n",
    "⼁  \n",
    "⼁  \n",
    "🔵 ◀︎ 2006 - [PEP-342](https://www.python.org/dev/peps/pep-342) add `send` and `throw` methods to generator.  Coroutines made simpler.  \n",
    "⼁  \n",
    "⼁  \n",
    "⼁  \n",
    "⼁  \n",
    "⼁  \n",
    "🔵 ◀︎ 2012 - [PEP-380](https://www.python.org/dev/peps/pep-380) add `yield from` construction.  Coroutines performance is improved.  \n",
    "⼁  \n",
    "🔵 ◀︎ 2014 - [PEP-3156](https://www.python.org/dev/peps/pep-3156) add `asyncio` to Python 3.4.  Coroutines are offitially a part of the standard library.  \n",
    "🔵 ◀︎ 2015 - [PEP-492](https://www.python.org/dev/peps/pep-492) add `async` and `await` syntax.  Coroutines are more readable.  \n",
    "🔵 ◀︎ 2016 - More syntax updates: asynchronous generators, asynchronous comprehensions.  \n",
    "⼁  \n",
    "⼁  \n",
    "⼁  \n",
    "⼁  \n",
    "…\n",
    "\n",
    "20 years after introducing `Deffered`s, asyncio still uses [Deferred-like objects](https://docs.python.org/3/library/asyncio-task.html#awaitables) to run."
   ]
  },
  {
   "cell_type": "markdown",
   "metadata": {},
   "source": [
    "---\n",
    "***And Now for Something Completely Different***"
   ]
  },
  {
   "cell_type": "markdown",
   "metadata": {},
   "source": [
    "…  \n",
    "⼁  \n",
    "🟣 ◀︎ 2015 - [David Beazley](https://www.dabeaz.com/) introduced [Curio](https://github.com/dabeaz/curio), the next-level\\*, coroutine-only asynchronous library.  \n",
    "⼁  \n",
    "🟣 ◀︎ 2017 - [Nathaniel Smith](https://vorpus.org/) brought ideas from `Curio` to his new [Trio](https://trio.readthedocs.io/en/stable/index.html) library, implementing structured concurrency\\*\\*.  \n",
    "⼁  \n",
    "…\n"
   ]
  },
  {
   "cell_type": "markdown",
   "metadata": {},
   "source": [
    "---\n",
    "\n",
    "\\* From the description of Curio:\n",
    "\n",
    "Curio strictly separates asynchronous code from synchronous code. Specifically, *all* functionality related to the asynchronous environment utilizes \"async/await\" features and syntax--without exception. Moreover, interactions between async and sync code is carefully managed through a small set of simple mechanisms such as events and queues. As a result, Curio is small, fast, and significantly easier to reason about.\n",
    "\n",
    "<div align=\"right\">\n",
    "    – <a href=\"https://github.com/dabeaz/curio#curio-is-differen\">https://github.com/dabeaz/curio#curio-is-differen</a>\n",
    "</div>\n",
    "\n",
    "\n",
    "\\*\\* **Structured concurrency** is a programming paradigm aimed at improving the clarity, quality, and development time of a computer program by using a structured approach to concurrent programming. The core concept is the encapsulation of concurrent threads of execution (here encompassing kernel and userland threads and processes) by way of control flow constructs that have clear entry and exit points and that ensure all spawned threads have completed before exit.\n",
    "\n",
    "<div align=\"right\">\n",
    "    – <a href=\"https://en.wikipedia.org/wiki/Concurrent_computing\">Wikipedia / Concurrent computing </a>\n",
    "</div>\n"
   ]
  },
  {
   "cell_type": "code",
   "execution_count": null,
   "metadata": {},
   "outputs": [],
   "source": []
  }
 ],
 "metadata": {
  "kernelspec": {
   "display_name": "Python 3",
   "language": "python",
   "name": "python3"
  },
  "language_info": {
   "codemirror_mode": {
    "name": "ipython",
    "version": 3
   },
   "file_extension": ".py",
   "mimetype": "text/x-python",
   "name": "python",
   "nbconvert_exporter": "python",
   "pygments_lexer": "ipython3",
   "version": "3.6.3"
  },
  "pycharm": {
   "stem_cell": {
    "cell_type": "raw",
    "source": [],
    "metadata": {
     "collapsed": false
    }
   }
  }
 },
 "nbformat": 4,
 "nbformat_minor": 2
}