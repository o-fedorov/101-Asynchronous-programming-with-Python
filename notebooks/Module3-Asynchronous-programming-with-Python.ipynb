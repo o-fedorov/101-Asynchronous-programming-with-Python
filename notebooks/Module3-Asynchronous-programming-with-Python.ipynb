{
 "cells": [
  {
   "cell_type": "markdown",
   "metadata": {},
   "source": [
    "# Asynchronous programming with Python\n",
    "## Module 3 - AsyncIO\n",
    "\n",
    "### Agenda:\n",
    "\n",
    "* Key definitions\n",
    "* Common patterns"
   ]
  },
  {
   "cell_type": "markdown",
   "metadata": {},
   "source": [
    "## Key definitions\n",
    "`asyncio` is a built-in Python library for async concurrency and I/O.\n",
    "The most basic `asyncio` program looks like following:\n",
    "\n",
    "```python\n",
    "import asyncio\n",
    "\n",
    "\n",
    "async def main():\n",
    "    print('hello')\n",
    "    await asyncio.sleep(1)\n",
    "    print('world')\n",
    "\n",
    "\n",
    "asyncio.run(main())\n",
    "\n",
    "```\n",
    "See it running:"
   ]
  },
  {
   "cell_type": "code",
   "execution_count": null,
   "metadata": {
    "pycharm": {
     "name": "#%%\n"
    }
   },
   "outputs": [],
   "source": [
    "import asyncio\n",
    "\n",
    "\n",
    "async def main():\n",
    "    print('hello')\n",
    "    await asyncio.sleep(1)\n",
    "    print('world')\n",
    "\n",
    "# Normally you run asyncio programs with\n",
    "# asyncio.run(main())\n",
    "# Though, the notebook magic works just like this:\n",
    "await main()"
   ]
  },
  {
   "cell_type": "markdown",
   "metadata": {},
   "source": [
    "### Event Loop\n",
    "Event loop is a core of the application, used to schedule tasks,\n",
    "run I/O operations, execute callbacks.  Also in modern asyncio\n",
    "programs you should rarely deal with it, it still can be found\n",
    "more often than you would want."
   ]
  },
  {
   "cell_type": "markdown",
   "source": [
    "**Projects created prior to Python 3.7 have it around all the time.**\n",
    "\n",
    "First, startup instructions often propose this snippet:\n",
    "```python\n",
    "loop = asyncio.get_event_loop()\n",
    "loop.run_until_complete(main())\n",
    "```\n",
    "\n",
    "Or even:\n",
    "```python\n",
    "event_loop = asyncio.get_event_loop()\n",
    "try:\n",
    "    event_loop.run_until_complete(main())\n",
    "finally:\n",
    "    event_loop.close()\n",
    "```\n",
    "\n",
    "Instead, use this:\n",
    "```python\n",
    "asyncio.run(main())\n",
    "```\n",
    "\n",
    "Second, there are `loop` arguments and attributes, though they are\n",
    "often deprecated.\n",
    "\n",
    "AioHTTP is an example of both cases:\n",
    "<https://docs.aiohttp.org/en/v3.7.4/client_reference.html#client-session>"
   ],
   "metadata": {
    "collapsed": false
   }
  },
  {
   "cell_type": "markdown",
   "source": [
    "**You may use event loop to tune your application.**\n",
    "\n",
    "For docker images and kubernetes applications you often need to limit\n",
    "the number of threads.\n",
    "\n",
    "```python\n",
    "from concurrent.futures.thread import ThreadPoolExecutor\n",
    "\n",
    "\n",
    "loop = asyncio.get_running_loop()\n",
    "loop.set_default_executor(ThreadPoolExecutor(max_workers=MAX_THREAD_WORKERS))\n",
    "```\n"
   ],
   "metadata": {
    "collapsed": false
   }
  },
  {
   "cell_type": "markdown",
   "source": [
    "Prior to Python 3.9 to run `func` in a thread, one should do:\n",
    "\n",
    "```python\n",
    "loop = asyncio.get_running_loop()\n",
    "loop.run_in_executor(None, func)\n",
    "```\n",
    "\n",
    "or:\n",
    "```python\n",
    "from functools import partial\n",
    "\n",
    "loop = asyncio.get_running_loop()\n",
    "loop.run_in_executor(None, partial(func, **args, **kwargs))\n",
    "```\n",
    "\n",
    "Starting from Python 3.9, just do:\n",
    "\n",
    "```python\n",
    "asyncio.to_thread(func, *args, **kwargs)\n",
    "```"
   ],
   "metadata": {
    "collapsed": false
   }
  },
  {
   "cell_type": "markdown",
   "metadata": {},
   "source": [
    "### Task\n",
    "`asyncio` uses tasks to wrap and execute your `async def` functions.\n",
    "\n",
    "Sometimes you need to create it explicitly with\n",
    "[asyncio.create_task()](https://docs.python.org/3/library/asyncio-task.html#asyncio.create_task).\n",
    "\n",
    "For more information on tasks refer to the documentation:\n",
    "\n",
    "* https://docs.python.org/3/library/asyncio-task.html#task-object\n",
    "\n",
    "Note, however, that most of the time you'll need only\n",
    "[asyncio.create_task()](https://docs.python.org/3/library/asyncio-task.html#asyncio.create_task)\n",
    "and [Task.cancel()](https://docs.python.org/3/library/asyncio-task.html#asyncio.Task.cancel)."
   ]
  },
  {
   "cell_type": "markdown",
   "metadata": {},
   "source": [
    "## Common patterns"
   ]
  },
  {
   "cell_type": "markdown",
   "metadata": {},
   "source": [
    "### Collecting tasks\n",
    "[asyncio.gather()](https://docs.python.org/3/library/asyncio-task.html#asyncio.gather)\n",
    "allows you to schedule asynchronous tasks and execute them concurrently."
   ]
  },
  {
   "cell_type": "code",
   "execution_count": null,
   "outputs": [],
   "source": [
    "import asyncio\n",
    "\n",
    "\n",
    "async def child1():\n",
    "    print(\"  child1: started! sleeping now...\")\n",
    "    await asyncio.sleep(1)\n",
    "    print(\"  child1: still working...\")\n",
    "    await asyncio.sleep(1)\n",
    "    print(\"  child1: exiting!\")\n",
    "\n",
    "\n",
    "async def child2():\n",
    "    print(\"  child2: started! sleeping now...\")\n",
    "    await asyncio.sleep(2)\n",
    "    print(\"  child2: still working...\")\n",
    "    await asyncio.sleep(2)\n",
    "    print(\"  child2: exiting!\")\n",
    "\n",
    "\n",
    "async def main():\n",
    "    tasks = [asyncio.create_task(c) for c in [child1(), child2()]]\n",
    "    return await asyncio.gather(*tasks)\n",
    "\n",
    "\n",
    "try:\n",
    "    print(await main())\n",
    "except Exception as err:\n",
    "    # If you want to break one of the children, this code will help\n",
    "    # to see the whole picture.\n",
    "    print(\"The main task failed with\", repr(err), \"let's see what happens now.\")\n",
    "    await asyncio.sleep(5)\n",
    "    raise"
   ],
   "metadata": {
    "collapsed": false,
    "pycharm": {
     "name": "#%%\n"
    }
   }
  },
  {
   "cell_type": "markdown",
   "source": [
    "##### Some practice\n",
    "\n",
    "**1. If one of the children raises an error, what happens to the other child?\n",
    "What happens to the main task?**\n",
    "**1.1. Change the situation with `asyncio.gather(*tasks, return_exceptions=True)`**\n",
    "**1.2. Cancel the tasks instead, when one of the children raises an exception.**\n",
    "\n",
    "#### Mapping of results\n",
    "The order of the results provided with `asyncio.gather` corresponds\n",
    "to the order of tasks provided.\n",
    "\n",
    "We can utilize it to map gathered results to input values, or to\n",
    "map them to other gathered results."
   ],
   "metadata": {
    "collapsed": false,
    "pycharm": {
     "name": "#%% md\n"
    }
   }
  },
  {
   "cell_type": "code",
   "execution_count": null,
   "outputs": [],
   "source": [
    "import asyncio\n",
    "import random\n",
    "\n",
    "\n",
    "async def get_double(n):\n",
    "    print(f\"    { n }: thinking on a double...\")\n",
    "    await asyncio.sleep(random.random())\n",
    "    print(f\"    { n }: got it: { n * 2 }\")\n",
    "    return n * 2\n",
    "\n",
    "\n",
    "async def main():\n",
    "    # Prepare some arbitrary ordered numbers\n",
    "    numbers = list(range(10))\n",
    "    random.shuffle(numbers)\n",
    "\n",
    "    print(\"Processing numbers:\", numbers)\n",
    "    tasks = [asyncio.create_task(get_double(n)) for n in numbers]\n",
    "    result = await asyncio.gather(*tasks)\n",
    "    return dict(zip(numbers, result))\n",
    "\n",
    "\n",
    "result = await main()\n",
    "print(result)\n",
    "assert result == {n: n*2 for n in range(10)}"
   ],
   "metadata": {
    "collapsed": false,
    "pycharm": {
     "name": "#%%\n"
    }
   }
  },
  {
   "cell_type": "markdown",
   "source": [
    "##### Some practice\n",
    "\n",
    "**1. Add `get_triple` async function that returns passed value multiplied by `3`.\n",
    "     Make `main` return a map of doubles to triples.**\n",
    "**1.1. Can you collect both doubles and triples concurrently,\n",
    "       within the same `asyncio.gather`?**"
   ],
   "metadata": {
    "collapsed": false,
    "pycharm": {
     "name": "#%% md\n"
    }
   }
  },
  {
   "cell_type": "markdown",
   "source": [
    "Similar to [asyncio.gather()](https://docs.python.org/3/library/asyncio-task.html#asyncio.gather),\n",
    "there are also functions [asyncio.wait()](https://docs.python.org/3/library/asyncio-task.html#asyncio.wait)\n",
    "and [asyncio.as_completed()](https://docs.python.org/3/library/asyncio-task.html#asyncio.as_completed).\n",
    "\n",
    "They are quite handy if you do not want to wait for all\n",
    "asynchronous tasks to finish, also\n",
    "[asyncio.as_completed()](https://docs.python.org/3/library/asyncio-task.html#asyncio.as_completed)\n",
    "is more clean of them both."
   ],
   "metadata": {
    "collapsed": false,
    "pycharm": {
     "name": "#%% md\n"
    }
   }
  },
  {
   "cell_type": "code",
   "execution_count": null,
   "outputs": [],
   "source": [
    "import asyncio\n",
    "import random\n",
    "\n",
    "\n",
    "async def get_double(n):\n",
    "    print(f\"    { n }: thinking on a double...\")\n",
    "    await asyncio.sleep(random.random())\n",
    "    print(f\"    { n }: got it: { n * 2 }\")\n",
    "    return n, n * 2\n",
    "\n",
    "\n",
    "async def main():\n",
    "    # Prepare some arbitrary ordered numbers\n",
    "    numbers = list(range(10))\n",
    "    random.shuffle(numbers)\n",
    "\n",
    "    print(\"Processing numbers:\", numbers)\n",
    "    tasks = [asyncio.create_task(get_double(n)) for n in numbers]\n",
    "\n",
    "    result = {}\n",
    "    for coro in asyncio.as_completed(tasks):\n",
    "        key, value = await coro\n",
    "        result[key] = value\n",
    "\n",
    "    return result\n",
    "\n",
    "\n",
    "result = await main()\n",
    "print(result)\n",
    "assert result == {n: n*2 for n in range(10)}\n"
   ],
   "metadata": {
    "collapsed": false,
    "pycharm": {
     "name": "#%%\n"
    }
   }
  },
  {
   "cell_type": "markdown",
   "metadata": {},
   "source": [
    "### Dealing with blocking code\n",
    "Here, `factorial` is contains some heavy-computation code,\n",
    "defined with `async def` by accident.\n",
    "\n",
    "What would you see when the code is executed?"
   ]
  },
  {
   "cell_type": "code",
   "execution_count": null,
   "metadata": {
    "pycharm": {
     "name": "#%%\n"
    }
   },
   "outputs": [],
   "source": [
    "import asyncio\n",
    "import time\n",
    "\n",
    "\n",
    "async def tick():\n",
    "    start = time.time()\n",
    "    print(\"    tick started\")\n",
    "    await asyncio.sleep(1)\n",
    "    print(\"    tick continued at\", time.time() - start)\n",
    "    await asyncio.sleep(1)\n",
    "    print(\"    tick ended at\", time.time() - start)\n",
    "\n",
    "\n",
    "\n",
    "async def factorial(num):\n",
    "    start = time.time()\n",
    "    print(\"Processing the factorial of\", num)\n",
    "    if num < 1:\n",
    "        raise ValueError(\"The number should be ≥ 1\")\n",
    "    result = 1\n",
    "    for i in range(1, num+1):\n",
    "        result *= i\n",
    "\n",
    "    print(\"The factorial of\", num, \"is\", result)\n",
    "    print(\"The processing took\", time.time() - start)\n",
    "    return result\n",
    "\n",
    "\n",
    "loop = asyncio.get_running_loop()\n",
    "\n",
    "\n",
    "_, factorial_value = await asyncio.gather(\n",
    "    asyncio.create_task(tick()),\n",
    "    asyncio.create_task(factorial(100000)),\n",
    ")\n",
    "\n",
    "factorial_value"
   ]
  },
  {
   "cell_type": "markdown",
   "metadata": {},
   "source": [
    "👉 *`factorial` is a toy example.  Also, there is plenty of code\n",
    "that would block your application.  One of the examples is\n",
    "[regular expressions](https://medium.com/ochrona/python-dos-prevention-the-redos-attack-7267a8fa2d5c).\n",
    "Another is validation with [jsonschema](https://github.com/Julian/jsonschema/issues/277).*👈"
   ]
  },
  {
   "cell_type": "markdown",
   "source": [
    "##### Some practice\n",
    "\n",
    "**1. Place `asyncio.sleep(0)` inside the `factorial` function to unblock the application.**\n",
    "**2. Use `loop.run_in_executor()` as provided above to unblock the application.\n",
    "     Note that `loop.run_in_executor()` accepts synchronous functions, not coroutines.**\n",
    "\n",
    "👉*Three useful implementations of `asyncio.sleep()`:\n",
    "(1) make your code wait;\n",
    "(2) insert a checkpoint to your synchronous code;\n",
    "(3) quickly create an awaitable object with a ready-to-use result with\n",
    "`asyncio.sleep(0, result=<anything>)`.*👈\n",
    "\n",
    "👉*As noted above, to execute some code in a thread with Python 3.9+\n",
    "simply use [asyncio.to_thread()](https://docs.python.org/3/library/asyncio-task.html#asyncio.to_thread)*👈"
   ],
   "metadata": {
    "collapsed": false
   }
  },
  {
   "cell_type": "markdown",
   "metadata": {
    "pycharm": {
     "name": "#%% md\n"
    }
   },
   "source": [
    "### Producers and consumers"
   ]
  },
  {
   "cell_type": "code",
   "execution_count": 4,
   "outputs": [
    {
     "name": "stdout",
     "output_type": "stream",
     "text": [
      "    sending a message: 0\n",
      "    sending a message: 1\n",
      "    got value 'message 0'\n",
      "    sending a message: 2\n",
      "    finished processing 'message 0'\n",
      "    got value 'message 1'\n",
      "    finished processing 'message 1'\n",
      "    got value 'message 2'\n",
      "    finished processing 'message 2'\n",
      "Finished\n"
     ]
    }
   ],
   "source": [
    "import asyncio\n",
    "import random\n",
    "\n",
    "\n",
    "async def main():\n",
    "    queue = asyncio.Queue(maxsize=1)\n",
    "\n",
    "    consumer_task = asyncio.create_task(consumer(queue))\n",
    "    producer_task = asyncio.create_task(producer(queue))\n",
    "\n",
    "    await producer_task\n",
    "    await queue.join()\n",
    "\n",
    "    consumer_task.cancel()\n",
    "    print(\"Finished\")\n",
    "\n",
    "\n",
    "async def producer(queue: asyncio.Queue):\n",
    "    for i in range(3):\n",
    "        print(f\"    sending a message: {i}\")\n",
    "        await queue.put(f\"message {i}\")\n",
    "\n",
    "\n",
    "async def consumer(queue: asyncio.Queue):\n",
    "    while True:\n",
    "        value = await queue.get()\n",
    "        print(f\"    got value {value!r}\")\n",
    "\n",
    "        # Simulate hard working\n",
    "        await asyncio.sleep(random.random())\n",
    "\n",
    "        print(f\"    finished processing {value!r}\")\n",
    "        queue.task_done()\n",
    "\n",
    "\n",
    "try:\n",
    "    await main()\n",
    "except Exception as err:\n",
    "    # If you want to break one of the children, this code will help\n",
    "    # to see the whole picture.\n",
    "    print(\"The main task failed with\", repr(err), \"let's see what happens now.\")\n",
    "    await asyncio.sleep(5)\n",
    "    raise"
   ],
   "metadata": {
    "collapsed": false,
    "pycharm": {
     "name": "#%%\n"
    }
   }
  },
  {
   "cell_type": "markdown",
   "source": [
    "##### Some practice\n",
    "**1. Add more producers and consumers.  Concurrently await for producers to finish.**\n",
    "\n",
    "**2. What happens if consumers intermittently fail before `queue.task_done()` is called?\n",
    "     Try adding following snippet:**\n",
    "```python\n",
    "        if random.random() > 0.5:\n",
    "            print(\"going to fail now\")\n",
    "            raise ValueError(value)\n",
    "```\n",
    "\n",
    "**Note that if consumers fail, both `await asyncio.gather(*producer_task)`\n",
    "and `await queue.join()` may block.  If there is no backpressure,\n",
    "(queue maxsize limit), only `await queue.join()` would block, also producers\n",
    "would keep filling the queue with their data.**\n",
    "\n",
    "To unblock the code, do following:\n",
    "\n",
    "1. Wrap blocking statement with\n",
    "[asyncio.wait_for()](https://docs.python.org/3/library/asyncio-task.html#asyncio.wait_for)\n",
    "and [asyncio.shield()](https://docs.python.org/3/library/asyncio-task.html#asyncio.shield).\n",
    "2. If `asyncio.TimeoutError` occurred, check for failed consumers\n",
    "with [asyncio.wait()](https://docs.python.org/3/library/asyncio-task.html#asyncio.wait).\n",
    "\n",
    "Here is an example:"
   ],
   "metadata": {
    "collapsed": false,
    "pycharm": {
     "name": "#%% md\n"
    }
   }
  },
  {
   "cell_type": "code",
   "execution_count": 18,
   "outputs": [
    {
     "name": "stdout",
     "output_type": "stream",
     "text": [
      "    0: sending a message: 0\n",
      "    0: sending a message: 1\n",
      "    1: sending a message: 0\n",
      "    2: sending a message: 0\n",
      "    0: sending a message: 2\n",
      "    1: sending a message: 1\n",
      "    2: sending a message: 1\n",
      "    0: got value 'message 0'\n",
      "    2: got value 'message 0'\n",
      "    1: sending a message: 2\n",
      "    0: got value 'message 0'\n",
      "    2: sending a message: 2\n",
      "    1: got value 'message 1'\n",
      "    2: got value 'message 2'\n",
      "    1: got value 'message 1'\n",
      "    1: got value 'message 2'\n",
      "    0: got value 'message 1'\n",
      "    2: got value 'message 2'\n",
      "Finished\n"
     ]
    }
   ],
   "source": [
    "import asyncio\n",
    "from typing import List, Awaitable\n",
    "\n",
    "\n",
    "async def main():\n",
    "    queue = asyncio.Queue(maxsize=1)\n",
    "\n",
    "    consumer_tasks = [asyncio.create_task(consumer(tid, queue)) for tid in range(3)]\n",
    "    producer_tasks = [asyncio.create_task(producer(tid, queue)) for tid in range(3)]\n",
    "\n",
    "    try:\n",
    "        await monitor_consumers(\n",
    "            consumer_tasks,\n",
    "            asyncio.gather(queue.join(), *producer_tasks)\n",
    "        )\n",
    "    finally:\n",
    "        for task in consumer_tasks:\n",
    "            task.cancel()\n",
    "\n",
    "    print(\"Finished\")\n",
    "\n",
    "\n",
    "async def monitor_consumers(consumers: List[asyncio.Task], checkpoint: Awaitable, timeout=1):\n",
    "    while True:\n",
    "        try:\n",
    "            await asyncio.wait_for(asyncio.shield(checkpoint), timeout=timeout)\n",
    "        except asyncio.TimeoutError:\n",
    "            done, _ = await asyncio.wait(\n",
    "                consumers, timeout=timeout, return_when=asyncio.FIRST_EXCEPTION,\n",
    "            )\n",
    "            # If there is an exception in consumer, it will be raised here:\n",
    "            await asyncio.gather(*done)\n",
    "        else:\n",
    "            break\n",
    "\n",
    "\n",
    "async def producer(tid, queue: asyncio.Queue):\n",
    "    for i in range(3):\n",
    "        print(f\"    {tid}: sending a message: {i}\")\n",
    "        await queue.put(f\"message {i}\")\n",
    "\n",
    "\n",
    "async def consumer(tid, queue: asyncio.Queue):\n",
    "    while True:\n",
    "        value = await queue.get()\n",
    "\n",
    "        # Simulate hard working\n",
    "        await asyncio.sleep(random.random())\n",
    "\n",
    "        print(f\"    {tid}: got value {value!r}\")\n",
    "        queue.task_done()\n",
    "\n",
    "\n",
    "try:\n",
    "    await main()\n",
    "except Exception as err:\n",
    "    # If you want to break one of the children, this code will help\n",
    "    # to see the whole picture.\n",
    "    print(\"The main task failed with\", repr(err), \"let's see what happens now.\")\n",
    "    await asyncio.sleep(5)\n",
    "    raise"
   ],
   "metadata": {
    "collapsed": false,
    "pycharm": {
     "name": "#%%\n"
    }
   }
  },
  {
   "cell_type": "markdown",
   "source": [
    "### Conclusion"
   ],
   "metadata": {
    "collapsed": false
   }
  },
  {
   "cell_type": "markdown",
   "source": [
    "<span style=\"font-size: x-large\">Add your code below:</span>"
   ],
   "metadata": {
    "collapsed": false
   }
  },
  {
   "cell_type": "code",
   "execution_count": null,
   "outputs": [],
   "source": [],
   "metadata": {
    "collapsed": false,
    "pycharm": {
     "name": "#%%\n"
    }
   }
  }
 ],
 "metadata": {
  "colab": {
   "collapsed_sections": [],
   "name": "Module2-Asynchronous-programming-with-Python.ipynb",
   "provenance": []
  },
  "kernelspec": {
   "display_name": "Python 3",
   "language": "python",
   "name": "python3"
  },
  "language_info": {
   "codemirror_mode": {
    "name": "ipython",
    "version": 3
   },
   "file_extension": ".py",
   "mimetype": "text/x-python",
   "name": "python",
   "nbconvert_exporter": "python",
   "pygments_lexer": "ipython3",
   "version": "3.7.6"
  }
 },
 "nbformat": 4,
 "nbformat_minor": 1
}