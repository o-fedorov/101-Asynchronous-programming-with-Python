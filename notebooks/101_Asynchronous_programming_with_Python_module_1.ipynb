{
  "nbformat": 4,
  "nbformat_minor": 0,
  "metadata": {
    "colab": {
      "name": "101 Asynchronous programming with Python - module 1.ipynb",
      "provenance": []
    },
    "kernelspec": {
      "name": "python3",
      "display_name": "Python 3"
    },
    "pycharm": {
      "stem_cell": {
        "cell_type": "raw",
        "source": [],
        "metadata": {
          "collapsed": false
        }
      }
    }
  },
  "cells": [
    {
      "cell_type": "markdown",
      "metadata": {
        "id": "fQOgjTuq8zTM"
      },
      "source": [
        "# 101 Asynchronous programming with Python\n",
        "## Module 1\n",
        "\n",
        "### Agenda:\n",
        "\n",
        "* Key definitions\n",
        "  * Concurrency, multitasking, \n",
        "  * Coroutines\n",
        "* The Python syntax: what means \"async\" and why you need \"await\"\n",
        "* What is event loop and why you should not care about it.\n"
      ]
    },
    {
      "cell_type": "markdown",
      "metadata": {
        "id": "e5_4gQmi6sL5"
      },
      "source": [
        "# Key devinitions"
      ]
    },
    {
      "cell_type": "markdown",
      "metadata": {
        "id": "yr7oOBUgqi79"
      },
      "source": [
        "<div align=\"center\"><img src=\"https://github.com/o-fedorov/101-Asynchronous-programming-with-Python/blob/main/images/whooper%20swans%20on%20snow.jpg?raw=1\" alt=\"whooper swans on snow\" width=\"200\"/></div>\n",
        "\n",
        "**Concurrent computing** is a form of computing in which several computations are executed concurrently—during overlapping time periods—instead of sequentially, with one completing before the next starts.\n",
        "\n",
        "<div align=\"right\">\n",
        "    – <a href=\"https://en.wikipedia.org/wiki/Concurrent_computing\">Wikipedia / Concurrent computing </a>\n",
        "</div>\n",
        "\n",
        "\n",
        "\n"
      ]
    },
    {
      "cell_type": "markdown",
      "metadata": {
        "id": "qKgyRdOS65QF"
      },
      "source": [
        "<div align=\"center\"><img src=\"https://github.com/o-fedorov/101-Asynchronous-programming-with-Python/blob/main/images/three%20seagulls.jpg?raw=1\" alt=\"three seagulls\" width=\"200\"/></div>\n",
        "\n",
        "**Parallelism (parallel computing)** is a simultaneous execution of different parts of a program on multiple processors.\n",
        "\n",
        "<div align=\"right\">\n",
        "    – <a href=\"https://en.wikipedia.org/wiki/Parallel_computing\">Wikipedia / Parallel computing </a>\n",
        "</div>\n",
        "\n",
        "👉 *You may have parallelism without concurrency, and concurrency without parallelism.* 👈"
      ]
    }
  ]
}