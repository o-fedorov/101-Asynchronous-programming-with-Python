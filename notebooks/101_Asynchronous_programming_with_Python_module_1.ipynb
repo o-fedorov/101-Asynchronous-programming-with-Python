{
 "cells": [
  {
   "cell_type": "markdown",
   "metadata": {
    "id": "fQOgjTuq8zTM"
   },
   "source": [
    "# 101 Asynchronous programming with Python\n",
    "## Module 1\n",
    "\n",
    "### Agenda:\n",
    "\n",
    "* Key definitions\n",
    "  * Concurrency, multitasking, \n",
    "  * Coroutines\n",
    "* The Python syntax: what means \"async\" and why you need \"await\"\n",
    "* What is event loop and why you should not care about it.\n"
   ]
  },
  {
   "cell_type": "markdown",
   "metadata": {
    "id": "e5_4gQmi6sL5"
   },
   "source": [
    "# Key devinitions"
   ]
  },
  {
   "cell_type": "markdown",
   "metadata": {
    "id": "e5_4gQmi6sL5"
   },
   "source": [
    "## Concurrency and parallelism"
   ]
  },
  {
   "cell_type": "markdown",
   "metadata": {
    "id": "yr7oOBUgqi79"
   },
   "source": [
    "**Concurrent computing**\n",
    "\n",
    "<div align=\"center\"><img src=\"../images/whooper%20swans%20on%20snow.jpg?raw=1\" alt=\"whooper swans on snow\" width=\"200\"/></div>\n",
    "\n",
    "is a form of computing in which several computations are executed concurrently—during overlapping time periods—instead of sequentially, with one completing before the next starts.\n",
    "\n",
    "<div align=\"right\">\n",
    "    – <a href=\"https://en.wikipedia.org/wiki/Concurrent_computing\">Wikipedia / Concurrent computing </a>\n",
    "</div>\n",
    "\n",
    "---\n",
    "\n"
   ]
  },
  {
   "cell_type": "markdown",
   "metadata": {
    "id": "qKgyRdOS65QF"
   },
   "source": [
    "**Parallelism (parallel computing)**\n",
    "\n",
    "<div align=\"center\"><img src=\"../images/three%20seagulls.jpg?raw=1\" alt=\"three seagulls\" width=\"200\"/></div>\n",
    "\n",
    "is a simultaneous execution of different parts of a program on multiple processors.\n",
    "\n",
    "<div align=\"right\">\n",
    "    – <a href=\"https://en.wikipedia.org/wiki/Parallel_computing\">Wikipedia / Parallel computing </a>\n",
    "</div>\n",
    "\n",
    "👉 *You may have parallelism without concurrency, and concurrency without parallelism.* 👈\n",
    "\n",
    "---"
   ]
  },
  {
   "cell_type": "markdown",
   "metadata": {
    "id": "e5_4gQmi6sL5"
   },
   "source": [
    "## Multiprocessing, multithreading, multitasking\n",
    "**(in Python)**"
   ]
  },
  {
   "cell_type": "markdown",
   "metadata": {},
   "source": [
    "**Multiprocessing**\n",
    "\n",
    "<div align=\"center\"><img src=\"../images/seagulls%20in%20a%20row.jpg\" alt=\"seagulls in a row\" width=\"200\"/></div>\n",
    "\n",
    "The load is distributed between multiple OS processes that have an\n",
    "ability to run in parallel on different CPUs.  It's good for heavy\n",
    "computation tasks, and allows to achieve a real parallelism.\n",
    "\n",
    "Still, spawning processes is expensive, and they may be hard to manage\n",
    "and communicate.  *If things go wrong, you may end up with\n",
    "orphan processes or an army of zombies.*\n",
    "\n",
    "---\n",
    "**Multithreading**\n",
    "<div align=\"center\"><img src=\"../images/geese.jpg\" alt=\"geese\" width=\"200\"/></div>\n",
    "\n",
    "Threads are \"execution units\" of a process, managed by OS.  They are\n",
    "more easy to create.  Since threads share resources, you can convert\n",
    "your single-thread code to a multithreaded one with just a bit of\n",
    "changes.\n",
    "\n",
    "On the other hand, sharing resources and OS-managed-context-switching\n",
    "means that you need to pay attention to tread safety.  It also\n",
    "add complications to signal handling (like raising KeyboardInterrupt).\n",
    "\n",
    "Threads are expensive, still not so expensive as processes.\n",
    "In Python they allow to execute the code concurrently,\n",
    "but not in parallel.\n",
    "\n",
    "---\n",
    "\n",
    "**Multitasking**\n",
    "<div align=\"center\"><img src=\"../images/four%20rock%20doves%20on%20gray%20floor.jpg\" alt=\"four rock doves on gray floor\" width=\"200\"/></div>\n",
    "\n",
    "Allows to execute concurrent tasks that share common computation\n",
    "resources, such as CPU and RAM.\n",
    "\n",
    "With **cooperative multitasking**, the process (the program) decides\n",
    "itself when to interrupt its execution and yield control to\n",
    "other processes.\n",
    "\n",
    "Cooperative multitasking allows simpler implementations, since there is\n",
    "no implicit context switching and no thread safety is needed.\n",
    "It allows to have a high number of tasks executed concurrently.\n",
    "\n",
    "Still, creating applications with cooperative multitasking require\n",
    "care to make sure each task fairly use the computation resources\n",
    "and timely yields control.  Also a high number of tasks still\n",
    "can affect the application performance.\n",
    "\n",
    "---\n"
   ]
  }
 ],
 "metadata": {
  "colab": {
   "name": "101 Asynchronous programming with Python - module 1.ipynb",
   "provenance": []
  },
  "kernelspec": {
   "display_name": "Python 3",
   "language": "python",
   "name": "python3"
  },
  "language_info": {
   "codemirror_mode": {
    "name": "ipython",
    "version": 3
   },
   "file_extension": ".py",
   "mimetype": "text/x-python",
   "name": "python",
   "nbconvert_exporter": "python",
   "pygments_lexer": "ipython3",
   "version": "3.6.3"
  },
  "pycharm": {
   "stem_cell": {
    "cell_type": "raw",
    "source": [],
    "metadata": {
     "collapsed": false
    }
   }
  }
 },
 "nbformat": 4,
 "nbformat_minor": 1
}