{
 "nbformat": 4,
 "nbformat_minor": 0,
 "metadata": {
  "colab": {
   "name": "101 Asynchronous programming with Python - module 1.ipynb",
   "provenance": []
  },
  "kernelspec": {
   "name": "python3",
   "display_name": "Python 3"
  },
  "pycharm": {
   "stem_cell": {
    "cell_type": "raw",
    "source": [],
    "metadata": {
     "collapsed": false
    }
   }
  }
 },
 "cells": [
  {
   "cell_type": "markdown",
   "metadata": {
    "id": "fQOgjTuq8zTM"
   },
   "source": [
    "# 101 Asynchronous programming with Python\n",
    "## Module 1\n",
    "\n",
    "### Agenda:\n",
    "\n",
    "* Key definitions.\n",
    "  * Concurrency, multitasking, \n",
    "  * Coroutines.\n",
    "* The Python syntax: what means \"async\" and why you need \"await\".\n",
    "* What is event loop and why you should not care about it. \n"
   ]
  },
  {
   "cell_type": "markdown",
   "metadata": {
    "id": "yr7oOBUgqi79"
   },
   "source": [
    "![whooper swans on snow](../images/whooper swans on snow.jpg)\n",
    "\n",
    "**Concurrent computing** is a form of computing in which several computations are executed concurrently—during overlapping time periods—instead of sequentially, with one completing before the next starts.\n",
    "\n",
    "<div align=\"right\">\n",
    "    – <a href=\"https://en.wikipedia.org/wiki/Concurrent_computing\">Wikipedia / Concurrent_computing </a>\n",
    "</div>\n",
    "\n",
    "\n",
    "\n"
   ]
  }
 ]
}