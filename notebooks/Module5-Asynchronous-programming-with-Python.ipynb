{
 "cells": [
  {
   "cell_type": "markdown",
   "metadata": {},
   "source": [
    "# Asynchronous programming with Python\n",
    "## Module 5 - Compare asynchronous code approaches - multiprocessing\n",
    "\n",
    "### Agenda:\n",
    "\n",
    "* Multiprocessing - calculate π value with Monte-Carlo method.\n",
    "    * Using ProcessPoolExecutor.\n",
    "    * Trio.\n",
    "    * AsyncIO."
   ]
  },
  {
   "cell_type": "markdown",
   "metadata": {},
   "source": [
    "### Calculate π value with Monte-Carlo method\n",
    "\n",
    "Monte Carlo methods, or Monte Carlo experiments, are a broad class of\n",
    "computational algorithms that rely on repeated random sampling\n",
    "to obtain numerical results.\n",
    "\n",
    "<div align=\"right\">\n",
    "    – <a href=\"https://en.wikipedia.org/wiki/Monte_Carlo_method\">Wikipedia / Monte Carlo method </a>\n",
    "</div>"
   ]
  },
  {
   "cell_type": "markdown",
   "metadata": {
    "pycharm": {
     "name": "#%% md\n"
    }
   },
   "source": [
    "#### The method definition\n",
    "<div align=\"center\"><img src=\"../images/Pi_30K.gif\" alt=\"three seagulls\" width=\"200\"/></div>\n",
    "\n",
    "We have a square with a side of length 1, and a quadrant (circular sector) inscribed in it.\n",
    "\n",
    "The area of the square is 1.\n",
    "\n",
    "A circul area is calculated as $πr^{2}$, with $r=1$ it gives just $π$. So, the area of the quadrant is $\\frac{π}{4}$.\n",
    "\n",
    "If we drop random points on a square, some of them will land in the quadrant, and some of them will be outside of it.\n",
    "\n",
    "The ratio of the points inside the quadrant and the total number of points is an estimate of the ratio of the two areas.  That is:\n",
    "\n",
    "$$\\frac{N_{quadrant}}{N_{total}} = \\frac{π}{4}$$\n",
    "\n",
    "$$π = 4 \\frac{N_{quadrant}}{N_{total}}$$\n",
    "\n",
    "All points inside the quadrant meet following condition:\n",
    "\n",
    "$$x^{2} + y^{2} ≤ 1$$"
   ]
  },
  {
   "cell_type": "markdown",
   "metadata": {},
   "source": [
    "Here is a simple (and inefficient) implementation:"
   ]
  },
  {
   "cell_type": "code",
   "execution_count": 8,
   "metadata": {},
   "outputs": [
    {
     "name": "stdout",
     "output_type": "stream",
     "text": [
      "The π is roughly equal to...\n",
      "2.84 s ± 88.8 ms per loop (mean ± std. dev. of 7 runs, 1 loop each)\n",
      "3.1417928\n"
     ]
    }
   ],
   "source": [
    "import random\n",
    "\n",
    "POINTS = 10000000\n",
    "\n",
    "def get_points(n):\n",
    "    \"\"\"Get points inside the quadrant.\"\"\"\n",
    "    points = 0\n",
    "    random_ = random.random\n",
    "\n",
    "    for _ in range(n):\n",
    "        x = random_()\n",
    "        y = random_()\n",
    "        points += (x**x + y*y) <= 1\n",
    "\n",
    "    return points\n",
    "\n",
    "\n",
    "print(\"The π is roughly equal to...\")\n",
    "π = 4 * get_points(POINTS) / POINTS\n",
    "print(π)"
   ]
  },
  {
   "cell_type": "code",
   "execution_count": 16,
   "metadata": {},
   "outputs": [
    {
     "name": "stdout",
     "output_type": "stream",
     "text": [
      "The difference is: 0.00020014641020704715\n"
     ]
    }
   ],
   "source": [
    "import math\n",
    "\n",
    "print(\"The difference is:\", π - math.pi)"
   ]
  },
  {
   "cell_type": "markdown",
   "metadata": {},
   "source": [
    "<span style=\"font-size: x-large\">Add your code below:</span>"
   ]
  },
  {
   "cell_type": "code",
   "execution_count": null,
   "metadata": {},
   "outputs": [],
   "source": []
  }
 ],
 "metadata": {
  "colab": {
   "collapsed_sections": [],
   "name": "Module2-Asynchronous-programming-with-Python.ipynb",
   "provenance": []
  },
  "kernelspec": {
   "display_name": "Python 3",
   "language": "python",
   "name": "python3"
  },
  "language_info": {
   "codemirror_mode": {
    "name": "ipython",
    "version": 3
   },
   "file_extension": ".py",
   "mimetype": "text/x-python",
   "name": "python",
   "nbconvert_exporter": "python",
   "pygments_lexer": "ipython3",
   "version": "3.7.6"
  }
 },
 "nbformat": 4,
 "nbformat_minor": 1
}