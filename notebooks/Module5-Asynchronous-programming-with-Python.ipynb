{
 "cells": [
  {
   "cell_type": "markdown",
   "metadata": {},
   "source": [
    "# Asynchronous programming with Python\n",
    "## Module 5 - Compare asynchronous code approaches - multiprocessing\n",
    "\n",
    "### Agenda:\n",
    "\n",
    "* Multiprocessing - calculate π value with Monte-Carlo method.\n",
    "    * Using ProcessPoolExecutor.\n",
    "    * Trio.\n",
    "    * AsyncIO."
   ]
  },
  {
   "cell_type": "markdown",
   "metadata": {},
   "source": [
    "### Calculating the π value with Monte-Carlo method\n",
    "\n",
    "Monte Carlo methods, or Monte Carlo experiments, are a broad class of\n",
    "computational algorithms that rely on repeated random sampling\n",
    "to obtain numerical results.\n",
    "\n",
    "<div align=\"right\">\n",
    "    – <a href=\"https://en.wikipedia.org/wiki/Monte_Carlo_method\">Wikipedia / Monte Carlo method </a>\n",
    "</div>"
   ]
  },
  {
   "cell_type": "markdown",
   "metadata": {
    "pycharm": {
     "name": "#%% md\n"
    }
   },
   "source": [
    "#### The method definition\n",
    "<div align=\"center\"><img src=\"../images/Pi_30K.gif\" alt=\"three seagulls\" width=\"200\"/></div>\n",
    "\n",
    "We have a square with a side of length 1, and a quadrant (circular sector) inscribed in it.\n",
    "\n",
    "The area of the square is 1.\n",
    "\n",
    "A circul area is calculated as $πr^{2}$, with $r=1$ it gives just $π$. So, the area of the quadrant is $\\frac{π}{4}$.\n",
    "\n",
    "If we drop random points on a square, some of them will land in the quadrant, and some of them will be outside of it.\n",
    "\n",
    "The ratio of the points inside the quadrant and the total number of points is an estimate of the ratio of the two areas.  That is:\n",
    "\n",
    "$$\\frac{N_{quadrant}}{N_{total}} = \\frac{π}{4}$$\n",
    "\n",
    "$$π = 4 \\frac{N_{quadrant}}{N_{total}}$$\n",
    "\n",
    "All points inside the quadrant meet following condition:\n",
    "\n",
    "$$x^{2} + y^{2} ≤ 1$$"
   ]
  },
  {
   "cell_type": "markdown",
   "metadata": {},
   "source": [
    "#### Implementation\n",
    "\n",
    "Here is a simple (and inefficient) implementation:"
   ]
  },
  {
   "cell_type": "code",
   "execution_count": null,
   "metadata": {},
   "outputs": [],
   "source": [
    "import math\n",
    "import random\n",
    "\n",
    "POINTS = 100_000_000\n",
    "\n",
    "\n",
    "def get_points(n):\n",
    "    \"\"\"Get points inside the quadrant.\"\"\"\n",
    "    points = 0\n",
    "    random_ = random.random\n",
    "\n",
    "    for _ in range(int(n)):\n",
    "        x = random_()\n",
    "        y = random_()\n",
    "        points += (x*x + y*y) <= 1\n",
    "\n",
    "    return points\n",
    "\n",
    "\n",
    "def print_result(π):\n",
    "    \"\"\"Print out the result of the calculated π value.\"\"\"\n",
    "    print(π)\n",
    "    print(\"The difference is:\", π - math.pi)"
   ]
  },
  {
   "cell_type": "code",
   "execution_count": null,
   "metadata": {
    "pycharm": {
     "name": "#%%\n"
    }
   },
   "outputs": [],
   "source": [
    "%%time\n",
    "# This takes half a minute on my machine\n",
    "\n",
    "print(\"The π is roughly equal to...\")\n",
    "π = 4 * get_points(POINTS) / POINTS\n",
    "print_result(π)"
   ]
  },
  {
   "cell_type": "markdown",
   "metadata": {},
   "source": [
    "👉 *What is the maximum number of random points we can use for such kind of tasks?\n",
    "Python uses [Mersenne Twister](https://en.wikipedia.org/wiki/Mersenne_Twister),\n",
    "one of the most efficient pseudo-random generators,\n",
    "that has a period of $4.3✕10^{106001}$.\n",
    "That is, we are good to use Python's `random` module without a risk to\n",
    "run out of random points.* 👈"
   ]
  },
  {
   "cell_type": "markdown",
   "metadata": {
    "pycharm": {
     "name": "#%% md\n"
    }
   },
   "source": [
    "#### Parallelization\n",
    "We can have distribute the points calculation over subprocesses,\n",
    "then aggregate the numbers.\n",
    "\n",
    "We will distribute the task across 10 workers, each will provide 1/10 of points."
   ]
  },
  {
   "cell_type": "code",
   "execution_count": null,
   "metadata": {},
   "outputs": [],
   "source": [
    "SUBTASKS_NUM = 10\n",
    "SUBTASK_POINTS = POINTS // SUBTASKS_NUM"
   ]
  },
  {
   "cell_type": "markdown",
   "metadata": {
    "pycharm": {
     "name": "#%% md\n"
    }
   },
   "source": [
    "For the simplest cases you can just go with\n",
    "[`ProcessPoolExecutor`](https://docs.python.org/3/library/concurrent.futures.html#processpoolexecutor),\n",
    "which handles most of the subprocess-related logic for us.\n",
    "\n",
    "It has the same interface as `ThreadPoolExecutor` discussed on a\n",
    "previous module."
   ]
  },
  {
   "cell_type": "code",
   "execution_count": null,
   "metadata": {
    "pycharm": {
     "name": "#%%\n"
    }
   },
   "outputs": [],
   "source": [
    "%%time\n",
    "# On my 8-core machine it takes 10 seconds.\n",
    "\n",
    "from concurrent.futures import ProcessPoolExecutor\n",
    "\n",
    "print(\"The π is roughly equal to...\")\n",
    "\n",
    "with ProcessPoolExecutor() as executor:\n",
    "    points = sum(\n",
    "        executor.map(get_points, [SUBTASK_POINTS for _ in range(SUBTASKS_NUM)])\n",
    "    )\n",
    "\n",
    "\n",
    "π = 4 * points / POINTS\n",
    "print_result(π)"
   ]
  },
  {
   "cell_type": "markdown",
   "metadata": {},
   "source": [
    "### Subprocesses with `async/await` code\n",
    "The example above showed how code can be executed *asynchronously*\n",
    "without any async/await syntax.  Though, it's often desired for your\n",
    "application to keep working with the main thread while waiting for\n",
    "a response from a subprocess.\n",
    "\n",
    "`async/await` code can help with this, also for current task is not\n",
    "necessary.\n",
    "\n",
    "Both Trio and AsyncIO use interface similar to\n",
    "[subprocess.Popen](https://docs.python.org/3/library/subprocess.html#popen-constructor).\n",
    "\n",
    "In order to pass `get_points` function to a subprocess we'll need\n",
    "some common arguments."
   ]
  },
  {
   "cell_type": "code",
   "execution_count": null,
   "metadata": {
    "pycharm": {
     "name": "#%%\n"
    }
   },
   "outputs": [],
   "source": [
    "import inspect\n",
    "import sys\n",
    "\n",
    "\n",
    "SUBTASK_SCRIPT_TEMPLATE = \"\"\"\n",
    "import random\n",
    "\n",
    "{func_src}\n",
    "\n",
    "print(get_points({points_num}))\n",
    "\"\"\"\n",
    "\n",
    "\n",
    "def get_subprocess_arguments():\n",
    "    \"\"\"Provide arguments to run `get_points` from a subprocess.\n",
    "\n",
    "    The arguments are equivalent to calling a subprocess with\n",
    "    a shell command\n",
    "\n",
    "        python -c 'import random\n",
    "        def get_points(n):\n",
    "            ...\n",
    "        print(get_points(1000...))\n",
    "        '\n",
    "    \"\"\"\n",
    "    func_src = inspect.getsource(get_points)\n",
    "    script = SUBTASK_SCRIPT_TEMPLATE.format(func_src=func_src, points_num=SUBTASK_POINTS)\n",
    "    return [sys.executable, \"-c\", script]"
   ]
  },
  {
   "cell_type": "markdown",
   "metadata": {},
   "source": [
    "#### Using AsyncIO\n",
    "AsyncIO has\n",
    "[two similar functions](https://docs.python.org/3.9/library/asyncio-subprocess.html)\n",
    "to create a subprocess with `async` interface:\n",
    "`asyncio.create_subprocess_exec()` and `asyncio.create_subprocess_shell()`.\n",
    "\n",
    "👉 *Make it a routine to create subprocesses in `exec` mode, not `shell`.\n",
    "Escaping shell command may be tricky, and it will be even trickier if\n",
    "your code may be run on Windows.* 👈\n",
    "\n",
    "👉 *AsyncIO subprocesses have limited support for Windows,\n",
    "see [here](https://docs.python.org/3.9/library/asyncio-platforms.html#subprocess-support-on-windows)\n",
    "for details.* 👈"
   ]
  },
  {
   "cell_type": "code",
   "execution_count": null,
   "metadata": {
    "pycharm": {
     "name": "#%%\n"
    }
   },
   "outputs": [],
   "source": [
    "import asyncio\n",
    "import os\n",
    "\n",
    "\n",
    "async def main():\n",
    "    semaphore = asyncio.Semaphore(os.cpu_count() or 2)\n",
    "\n",
    "    tasks = [\n",
    "        asyncio.create_task(run_subtask(semaphore)) for _ in range(SUBTASKS_NUM)\n",
    "    ]\n",
    "    points = await asyncio.gather(*tasks)\n",
    "    return sum(points)\n",
    "\n",
    "\n",
    "async def run_subtask(semaphore):\n",
    "    async with semaphore:\n",
    "        proc = await asyncio.create_subprocess_exec(\n",
    "            *get_subprocess_arguments(),\n",
    "            stdout=asyncio.subprocess.PIPE)\n",
    "\n",
    "        stdout = await proc.stdout.readline()\n",
    "\n",
    "        await proc.wait()\n",
    "        return int(stdout.decode().strip())\n",
    "\n",
    "\n",
    "points = await main()\n",
    "π = 4 * points / POINTS\n",
    "print_result(π)"
   ]
  },
  {
   "cell_type": "markdown",
   "metadata": {},
   "source": [
    "👉 *For current example the subprocess is short-lived, so that even\n",
    "if the upstream code crashes, we do not end up with orphan subprocesses.\n",
    "For long-lived subprocesses you may need to add extra cleanup, also\n",
    "refer to module 3 to see the how clean up after `asyncio.gather()`.* 👈\n"
   ]
  },
  {
   "cell_type": "markdown",
   "metadata": {
    "pycharm": {
     "name": "#%% md\n"
    }
   },
   "source": [
    "#### Using Trio\n",
    "Trio has\n",
    "[two options](https://trio.readthedocs.io/en/stable/reference-io.html#options-for-starting-subprocesses)\n",
    "to start a process, the simpler one is\n",
    "[trio.run_process()](https://trio.readthedocs.io/en/stable/reference-io.html#trio.run_process)."
   ]
  },
  {
   "cell_type": "code",
   "execution_count": null,
   "metadata": {
    "pycharm": {
     "name": "#%%\n"
    }
   },
   "outputs": [],
   "source": [
    "!pip install trio"
   ]
  },
  {
   "cell_type": "code",
   "execution_count": null,
   "metadata": {
    "pycharm": {
     "name": "#%%\n"
    }
   },
   "outputs": [],
   "source": [
    "%%time\n",
    "import os\n",
    "\n",
    "import trio\n",
    "\n",
    "\n",
    "async def main():\n",
    "    points_list = []\n",
    "    limiter = trio.CapacityLimiter(os.cpu_count() or 2)\n",
    "\n",
    "    async with trio.open_nursery() as nursery:\n",
    "        for _ in range(SUBTASKS_NUM):\n",
    "            nursery.start_soon(run_subtask, points_list, limiter)\n",
    "\n",
    "    return sum(points_list)\n",
    "\n",
    "\n",
    "async def run_subtask(points_list, limiter):\n",
    "    \"\"\"Calculate the points in a subprocess.\"\"\"\n",
    "    async with limiter:\n",
    "        completed_process = await trio.run_process(\n",
    "            get_subprocess_arguments(),\n",
    "            capture_stdout=True\n",
    "        )\n",
    "        points_list.append(int(completed_process.stdout.strip()))\n",
    "\n",
    "\n",
    "print(\"The π is roughly equal to...\")\n",
    "points = trio.run(main)\n",
    "π = 4 * points / POINTS\n",
    "print_result(π)"
   ]
  },
  {
   "cell_type": "markdown",
   "metadata": {},
   "source": [
    "#### Using Trio - long running process\n",
    "Spawning a new process is expensive.  Let's spawn a limited number\n",
    "of processes with\n",
    "[trio.open_process()](https://trio.readthedocs.io/en/stable/reference-io.html#trio.open_process)\n",
    "and feed it with the numbers."
   ]
  },
  {
   "cell_type": "code",
   "execution_count": null,
   "metadata": {
    "pycharm": {
     "name": "#%%\n"
    }
   },
   "outputs": [],
   "source": [
    "import inspect\n",
    "import sys\n",
    "\n",
    "\n",
    "CONTINIOUS_SUBTASK_SCRIPT_TEMPLATE = \"\"\"\n",
    "import random\n",
    "\n",
    "{get_points}\n",
    "\n",
    "{produce_points}\n",
    "\n",
    "produce_points()\n",
    "\"\"\"\n",
    "\n",
    "def produce_points():\n",
    "    \"\"\"Read number of points from stdin and print them out.\"\"\"\n",
    "    import sys\n",
    "    print(\"starting a subprocess\", file=sys.stderr)\n",
    "\n",
    "    for line in sys.stdin:\n",
    "        print(\"got a line:\", line, file=sys.stderr)\n",
    "\n",
    "        num = int(line.strip())\n",
    "        result = get_points(num)\n",
    "\n",
    "        print(\"printing out a result:\", result, file=sys.stderr)\n",
    "        print(result)\n",
    "\n",
    "    print(\"exiting\", file=sys.stderr)\n",
    "\n",
    "\n",
    "def get_continuous_subprocess_arguments():\n",
    "    \"\"\"Provide arguments to continuously run `get_points`.\n",
    "\n",
    "    The arguments are equivalent to calling a subprocess with\n",
    "    a shell command\n",
    "\n",
    "        python -c 'import random\n",
    "        def get_points(n):\n",
    "            ...\n",
    "        produce_points()\n",
    "        '\n",
    "    \"\"\"\n",
    "    get_points_src = inspect.getsource(get_points)\n",
    "    produce_points_src = inspect.getsource(produce_points)\n",
    "    script = CONTINIOUS_SUBTASK_SCRIPT_TEMPLATE.format(\n",
    "        get_points=get_points_src, produce_points=produce_points_src,\n",
    "    )\n",
    "    return [sys.executable, \"-u\", \"-c\", script]\n"
   ]
  },
  {
   "cell_type": "code",
   "execution_count": null,
   "metadata": {
    "pycharm": {
     "name": "#%%\n"
    }
   },
   "outputs": [],
   "source": [
    "%%time\n",
    "\n",
    "import os\n",
    "import subprocess\n",
    "\n",
    "import trio\n",
    "\n",
    "\n",
    "async def main():\n",
    "    points_list = []\n",
    "    num_of_workers = min(SUBTASKS_NUM, os.cpu_count() or 2)\n",
    "    send_channel, receive_channel = trio.open_memory_channel(num_of_workers)\n",
    "\n",
    "    async with trio.open_nursery() as nursery:\n",
    "        async with receive_channel:\n",
    "            for _ in range(num_of_workers):\n",
    "                nursery.start_soon(\n",
    "                    run_subtask, points_list, receive_channel.clone(), nursery\n",
    "                )\n",
    "\n",
    "        async with send_channel:\n",
    "            for _ in range(SUBTASKS_NUM):\n",
    "                await send_channel.send(SUBTASK_POINTS)\n",
    "\n",
    "    return sum(points_list)\n",
    "\n",
    "\n",
    "async def run_subtask(points_list, receive_channel, nursery):\n",
    "    \"\"\"Calculate the points in a subprocess.\"\"\"\n",
    "    process = await trio.open_process(\n",
    "        get_continuous_subprocess_arguments(),\n",
    "        stdin=subprocess.PIPE,\n",
    "        stdout=subprocess.PIPE,\n",
    "    )\n",
    "\n",
    "    async with receive_channel:\n",
    "        nursery.start_soon(populate_points, process, points_list)\n",
    "        async for points_num in receive_channel:\n",
    "            await process.stdin.send_all(f\"{points_num}\\n\".encode())\n",
    "        await process.stdin.aclose()\n",
    "\n",
    "\n",
    "async def populate_points(process, points_list):\n",
    "    \"\"\"Read stdout and populate the points list with numbers.\"\"\"\n",
    "    async with process:\n",
    "        buffer = b\"\"\n",
    "        async for data in process.stdout:\n",
    "            buffer += data\n",
    "        points_list.extend(int(s.strip()) for s in buffer.splitlines())\n",
    "\n",
    "\n",
    "print(\"The π is roughly equal to...\")\n",
    "points = trio.run(main)\n",
    "π = 4 * points / POINTS\n",
    "print_result(π)"
   ]
  },
  {
   "cell_type": "markdown",
   "metadata": {},
   "source": [
    "👉 *Note of following: (1) `-u` option is use; (2) writting in `stdin` and reading from `stdout` is done concurrently to prevent deadlocks.* 👈"
   ]
  },
  {
   "cell_type": "markdown",
   "metadata": {},
   "source": [
    "<span style=\"font-size: x-large\">Add your code below:</span>"
   ]
  },
  {
   "cell_type": "code",
   "execution_count": null,
   "metadata": {},
   "outputs": [],
   "source": []
  }
 ],
 "metadata": {
  "colab": {
   "collapsed_sections": [],
   "name": "Module2-Asynchronous-programming-with-Python.ipynb",
   "provenance": []
  },
  "kernelspec": {
   "display_name": "Python 3",
   "language": "python",
   "name": "python3"
  },
  "language_info": {
   "codemirror_mode": {
    "name": "ipython",
    "version": 3
   },
   "file_extension": ".py",
   "mimetype": "text/x-python",
   "name": "python",
   "nbconvert_exporter": "python",
   "pygments_lexer": "ipython3",
   "version": "3.7.6"
  }
 },
 "nbformat": 4,
 "nbformat_minor": 1
}