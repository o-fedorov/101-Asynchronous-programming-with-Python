{
 "cells": [
  {
   "cell_type": "markdown",
   "metadata": {},
   "source": [
    "# Asynchronous programming with Python\n",
    "## Module 5 - Compare asynchronous code approaches - multiprocessing\n",
    "\n",
    "### Agenda:\n",
    "\n",
    "* Multiprocessing - calculate π value with Monte-Carlo method.\n",
    "    * Using ProcessPoolExecutor.\n",
    "    * Trio.\n",
    "    * AsyncIO."
   ]
  },
  {
   "cell_type": "markdown",
   "metadata": {},
   "source": [
    "### Calculating the π value with Monte-Carlo method\n",
    "\n",
    "Monte Carlo methods, or Monte Carlo experiments, are a broad class of\n",
    "computational algorithms that rely on repeated random sampling\n",
    "to obtain numerical results.\n",
    "\n",
    "<div align=\"right\">\n",
    "    – <a href=\"https://en.wikipedia.org/wiki/Monte_Carlo_method\">Wikipedia / Monte Carlo method </a>\n",
    "</div>"
   ]
  },
  {
   "cell_type": "markdown",
   "metadata": {
    "pycharm": {
     "name": "#%% md\n"
    }
   },
   "source": [
    "#### The method definition\n",
    "<div align=\"center\"><img src=\"../images/Pi_30K.gif\" alt=\"three seagulls\" width=\"200\"/></div>\n",
    "\n",
    "We have a square with a side of length 1, and a quadrant (circular sector) inscribed in it.\n",
    "\n",
    "The area of the square is 1.\n",
    "\n",
    "A circul area is calculated as $πr^{2}$, with $r=1$ it gives just $π$. So, the area of the quadrant is $\\frac{π}{4}$.\n",
    "\n",
    "If we drop random points on a square, some of them will land in the quadrant, and some of them will be outside of it.\n",
    "\n",
    "The ratio of the points inside the quadrant and the total number of points is an estimate of the ratio of the two areas.  That is:\n",
    "\n",
    "$$\\frac{N_{quadrant}}{N_{total}} = \\frac{π}{4}$$\n",
    "\n",
    "$$π = 4 \\frac{N_{quadrant}}{N_{total}}$$\n",
    "\n",
    "All points inside the quadrant meet following condition:\n",
    "\n",
    "$$x^{2} + y^{2} ≤ 1$$"
   ]
  },
  {
   "cell_type": "markdown",
   "metadata": {},
   "source": [
    "#### Implementation\n",
    "\n",
    "Here is a simple (and inefficient) implementation:"
   ]
  },
  {
   "cell_type": "code",
   "execution_count": 2,
   "metadata": {},
   "outputs": [],
   "source": [
    "import math\n",
    "import random\n",
    "\n",
    "POINTS = 100_000_000\n",
    "\n",
    "\n",
    "def get_points(n):\n",
    "    \"\"\"Get points inside the quadrant.\"\"\"\n",
    "    points = 0\n",
    "    random_ = random.random\n",
    "\n",
    "    for _ in range(int(n)):\n",
    "        x = random_()\n",
    "        y = random_()\n",
    "        points += (x*x + y*y) <= 1\n",
    "\n",
    "    return points\n",
    "\n",
    "\n",
    "def print_result(π):\n",
    "    \"\"\"Print out the result of the calculated π value.\"\"\"\n",
    "    print(π)\n",
    "    print(\"The difference is:\", π - math.pi)"
   ]
  },
  {
   "cell_type": "code",
   "execution_count": 7,
   "metadata": {
    "pycharm": {
     "name": "#%%\n"
    }
   },
   "outputs": [
    {
     "name": "stdout",
     "output_type": "stream",
     "text": [
      "The π is roughly equal to...\n",
      "3.14148084\n",
      "The difference is: -0.00011181358979328593\n",
      "CPU times: user 26.3 s, sys: 221 ms, total: 26.5 s\n",
      "Wall time: 27 s\n"
     ]
    }
   ],
   "source": [
    "%%time\n",
    "# This takes half a minute on my machine\n",
    "\n",
    "print(\"The π is roughly equal to...\")\n",
    "π = 4 * get_points(POINTS) / POINTS\n",
    "print_result(π)"
   ]
  },
  {
   "cell_type": "markdown",
   "metadata": {},
   "source": [
    "👉 *What is the maximum number of random points we can use for such kind of tasks?  Python uses [Mersenne Twister](https://en.wikipedia.org/wiki/Mersenne_Twister), one of the most efficient pseudo-random generators, that has a period of $4.3✕10^{106001}$.  That is, we are good to use Python's `random` module without a risk to run out of random points.* 👈\n"
   ]
  },
  {
   "cell_type": "markdown",
   "metadata": {
    "pycharm": {
     "name": "#%% md\n"
    }
   },
   "source": [
    "#### Parallelization\n",
    "We can have distribute the points calculation over subprocesses,\n",
    "then aggregate the numbers.\n",
    "\n",
    "We will distribute the task across 10 workers, each will provide 1/10 of points."
   ]
  },
  {
   "cell_type": "code",
   "execution_count": 6,
   "metadata": {},
   "outputs": [],
   "source": [
    "SUBTASKS_NUM = 10\n",
    "SUBTASK_POINTS = POINTS / SUBTASKS_NUM"
   ]
  },
  {
   "cell_type": "markdown",
   "metadata": {
    "pycharm": {
     "name": "#%% md\n"
    }
   },
   "source": [
    "For the simplest cases you can just go with\n",
    "[`ProcessPoolExecutor`](https://docs.python.org/3/library/concurrent.futures.html#processpoolexecutor),\n",
    "which handles most of the subprocess-related logic for us.\n",
    "\n",
    "It has the same interface as `ThreadPoolExecutor` discussed on a\n",
    "previous module."
   ]
  },
  {
   "cell_type": "code",
   "execution_count": 9,
   "metadata": {
    "pycharm": {
     "name": "#%%\n"
    }
   },
   "outputs": [
    {
     "name": "stdout",
     "output_type": "stream",
     "text": [
      "The π is roughly equal to...\n",
      "3.14169296\n",
      "The difference is: 0.0001003064102067519\n",
      "CPU times: user 24 ms, sys: 37.8 ms, total: 61.7 ms\n",
      "Wall time: 9.07 s\n"
     ]
    }
   ],
   "source": [
    "%%time\n",
    "# On my 4-core machine it takes 10 seconds.\n",
    "\n",
    "from concurrent.futures import ProcessPoolExecutor\n",
    "\n",
    "print(\"The π is roughly equal to...\")\n",
    "\n",
    "with ProcessPoolExecutor() as executor:\n",
    "    points = sum(\n",
    "        executor.map(get_points, [SUBTASK_POINTS for _ in range(SUBTASKS_NUM)])\n",
    "    )\n",
    "\n",
    "\n",
    "π = 4 * points / POINTS\n",
    "print_result(π)"
   ]
  },
  {
   "cell_type": "markdown",
   "metadata": {},
   "source": [
    "### Subprocesses with `async/await` code\n",
    "The example above showed how code can be executed *asynchronously*\n",
    "without any async/await syntax.  Though, it's often desired for your\n",
    "application to keep working with the main thread while waiting for\n",
    "a response from a subprocess.\n",
    "\n",
    "`async/await` code can help with this, also for current task is not\n",
    "necessary.\n",
    "\n",
    "Both Trio and AsyncIO use interface similar to\n",
    "[subprocess.Popen](https://docs.python.org/3/library/subprocess.html#popen-constructor).\n",
    "\n",
    "In order to pass `get_points` function to a subprocess we'll need\n",
    "some common arguments."
   ]
  },
  {
   "cell_type": "code",
   "execution_count": 16,
   "metadata": {
    "pycharm": {
     "name": "#%%\n"
    }
   },
   "outputs": [],
   "source": [
    "import inspect\n",
    "import sys\n",
    "\n",
    "\n",
    "SUBTASK_SCRIPT_TEMPLATE = \"\"\"\n",
    "import random\n",
    "\n",
    "{func_src}\n",
    "\n",
    "print(get_points({points_num}))\n",
    "\"\"\"\n",
    "\n",
    "\n",
    "def get_subprocess_arguments():\n",
    "    \"\"\"Provide arguments to run `get_points` from a subprocess.\n",
    "\n",
    "    The arguments are equivalent to calling a subprocess with\n",
    "    a shell command\n",
    "\n",
    "        python -c 'import random\n",
    "        def get_points(n):\n",
    "            ...\n",
    "        print(get_points(1000...))\n",
    "        '\n",
    "    \"\"\"\n",
    "    func_src = inspect.getsource(get_points)\n",
    "    script = SUBTASK_SCRIPT_TEMPLATE.format(func_src=func_src, points_num=SUBTASK_POINTS)\n",
    "    return [sys.executable, \"-c\", script]"
   ]
  },
  {
   "cell_type": "markdown",
   "metadata": {
    "pycharm": {
     "name": "#%% md\n"
    }
   },
   "source": [
    "#### Using Trio\n",
    "Trio has\n",
    "[two options](https://trio.readthedocs.io/en/stable/reference-io.html#options-for-starting-subprocesses)\n",
    "to start a process, the simpler one is\n",
    "[trio.run_process()](https://trio.readthedocs.io/en/stable/reference-io.html#trio.run_process)."
   ]
  },
  {
   "cell_type": "code",
   "execution_count": 4,
   "metadata": {
    "pycharm": {
     "name": "#%%\n"
    }
   },
   "outputs": [
    {
     "name": "stdout",
     "output_type": "stream",
     "text": [
      "Requirement already satisfied: trio in /Users/ofedoro/src/Asynchronous-programming-with-Python/.venv/lib/python3.7/site-packages (0.18.0)\n",
      "Requirement already satisfied: sniffio in /Users/ofedoro/src/Asynchronous-programming-with-Python/.venv/lib/python3.7/site-packages (from trio) (1.2.0)\n",
      "Requirement already satisfied: async-generator>=1.9 in /Users/ofedoro/src/Asynchronous-programming-with-Python/.venv/lib/python3.7/site-packages (from trio) (1.10)\n",
      "Requirement already satisfied: idna in /Users/ofedoro/src/Asynchronous-programming-with-Python/.venv/lib/python3.7/site-packages (from trio) (2.10)\n",
      "Requirement already satisfied: outcome in /Users/ofedoro/src/Asynchronous-programming-with-Python/.venv/lib/python3.7/site-packages (from trio) (1.1.0)\n",
      "Requirement already satisfied: sortedcontainers in /Users/ofedoro/src/Asynchronous-programming-with-Python/.venv/lib/python3.7/site-packages (from trio) (2.3.0)\n",
      "Requirement already satisfied: attrs>=19.2.0 in /Users/ofedoro/src/Asynchronous-programming-with-Python/.venv/lib/python3.7/site-packages (from trio) (20.3.0)\n",
      "\u001B[33mWARNING: You are using pip version 21.0.1; however, version 21.1 is available.\n",
      "You should consider upgrading via the '/Users/ofedoro/src/Asynchronous-programming-with-Python/.venv/bin/python3.7 -m pip install --upgrade pip' command.\u001B[0m\n"
     ]
    }
   ],
   "source": [
    "!pip install trio"
   ]
  },
  {
   "cell_type": "code",
   "execution_count": 17,
   "metadata": {
    "pycharm": {
     "name": "#%%\n"
    }
   },
   "outputs": [
    {
     "name": "stdout",
     "output_type": "stream",
     "text": [
      "The π is roughly equal to...\n",
      "3.14157988\n",
      "The difference is: -1.2773589793013684e-05\n",
      "CPU times: user 39.3 ms, sys: 45.6 ms, total: 84.8 ms\n",
      "Wall time: 9.14 s\n"
     ]
    }
   ],
   "source": [
    "%%time\n",
    "import os\n",
    "\n",
    "import trio\n",
    "\n",
    "\n",
    "async def main():\n",
    "    points_list = []\n",
    "    limiter = trio.CapacityLimiter(os.cpu_count() or 2)\n",
    "\n",
    "    async with trio.open_nursery() as nursery:\n",
    "        for _ in range(SUBTASKS_NUM):\n",
    "            nursery.start_soon(run_subtask, points_list, limiter)\n",
    "\n",
    "    return sum(points_list)\n",
    "\n",
    "\n",
    "async def run_subtask(points_list, limiter):\n",
    "    \"\"\"Calculate the points in a subprocess.\"\"\"\n",
    "    async with limiter:\n",
    "        completed_process = await trio.run_process(\n",
    "            get_subprocess_arguments(),\n",
    "            capture_stdout=True\n",
    "        )\n",
    "        points_list.append(int(completed_process.stdout.strip()))\n",
    "\n",
    "\n",
    "print(\"The π is roughly equal to...\")\n",
    "points = trio.run(main)\n",
    "π = 4 * points / POINTS\n",
    "print_result(π)"
   ]
  },
  {
   "cell_type": "markdown",
   "metadata": {},
   "source": [
    "<span style=\"font-size: x-large\">Add your code below:</span>"
   ]
  },
  {
   "cell_type": "code",
   "execution_count": null,
   "metadata": {},
   "outputs": [],
   "source": []
  }
 ],
 "metadata": {
  "colab": {
   "collapsed_sections": [],
   "name": "Module2-Asynchronous-programming-with-Python.ipynb",
   "provenance": []
  },
  "kernelspec": {
   "display_name": "Python 3",
   "language": "python",
   "name": "python3"
  },
  "language_info": {
   "codemirror_mode": {
    "name": "ipython",
    "version": 3
   },
   "file_extension": ".py",
   "mimetype": "text/x-python",
   "name": "python",
   "nbconvert_exporter": "python",
   "pygments_lexer": "ipython3",
   "version": "3.7.6"
  }
 },
 "nbformat": 4,
 "nbformat_minor": 1
}