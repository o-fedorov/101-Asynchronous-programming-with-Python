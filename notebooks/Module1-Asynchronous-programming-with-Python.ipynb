{
 "cells": [
  {
   "cell_type": "markdown",
   "metadata": {
    "id": "fQOgjTuq8zTM"
   },
   "source": [
    "# Asynchronous programming with Python\n",
    "## Module 1\n",
    "\n",
    "### Agenda:\n",
    "\n",
    "* Key definitions\n",
    "* What is \"async\" and \"asynchronous\".\n",
    "* Coroutine objects, `async` and `await` keywords."
   ]
  },
  {
   "cell_type": "markdown",
   "metadata": {
    "id": "e5_4gQmi6sL5"
   },
   "source": [
    "# Key definitions"
   ]
  },
  {
   "cell_type": "markdown",
   "metadata": {
    "id": "e5_4gQmi6sL5"
   },
   "source": [
    "## Concurrency and parallelism"
   ]
  },
  {
   "cell_type": "markdown",
   "metadata": {
    "id": "yr7oOBUgqi79"
   },
   "source": [
    "**Concurrent computing**\n",
    "\n",
    "<div align=\"center\"><img src=\"../images/whooper%20swans%20on%20snow.jpg?raw=1\" alt=\"whooper swans on snow\" width=\"200\"/><small><a href=\"../CREDITS.md\">credits</a></small></div>\n",
    "\n",
    "is a form of computing in which several computations are executed concurrently—during overlapping time periods—instead of sequentially, with one completing before the next starts.\n",
    "\n",
    "<div align=\"right\">\n",
    "    – <a href=\"https://en.wikipedia.org/wiki/Concurrent_computing\">Wikipedia / Concurrent computing </a>\n",
    "</div>\n",
    "\n",
    "---\n",
    "\n"
   ]
  },
  {
   "cell_type": "markdown",
   "metadata": {
    "id": "qKgyRdOS65QF"
   },
   "source": [
    "**Parallelism (parallel computing)**\n",
    "\n",
    "<div align=\"center\"><img src=\"../images/three%20seagulls.jpg?raw=1\" alt=\"three seagulls\" width=\"200\"/><small><a href=\"../CREDITS.md\">credits</a></small></div>\n",
    "\n",
    "is a simultaneous execution of different parts of a program on multiple processors.\n",
    "\n",
    "<div align=\"right\">\n",
    "    – <a href=\"https://en.wikipedia.org/wiki/Parallel_computing\">Wikipedia / Parallel computing </a>\n",
    "</div>\n",
    "\n",
    "👉 *You may have parallelism without concurrency, and concurrency without parallelism.* 👈\n",
    "\n",
    "---"
   ]
  },
  {
   "cell_type": "markdown",
   "metadata": {
    "id": "e5_4gQmi6sL5"
   },
   "source": [
    "## Multiprocessing, multithreading, multitasking\n",
    "**(in Python)**"
   ]
  },
  {
   "cell_type": "markdown",
   "metadata": {},
   "source": [
    "**Multiprocessing**\n",
    "\n",
    "<div align=\"center\"><img src=\"../images/seagulls%20in%20a%20row.jpg\" alt=\"seagulls in a row\" width=\"200\"/><small><a href=\"../CREDITS.md\">credits</a></small></div>\n",
    "\n",
    "The load is distributed between multiple processes that have an\n",
    "ability to run in parallel on different CPUs.  It's good for heavy\n",
    "computation tasks, and allows to achieve a real parallelism.\n",
    "\n",
    "Still, spawning processes is expensive, and they may be hard to manage\n",
    "and communicate.  *If things go wrong, you may end up with\n",
    "orphan processes or an army of zombies.*\n",
    "\n",
    "---\n",
    "**Multithreading**\n",
    "<div align=\"center\"><img src=\"../images/geese.jpg\" alt=\"geese\" width=\"200\"/><small><a href=\"../CREDITS.md\">credits</a></small></div>\n",
    "\n",
    "Threads are \"execution units\" of a process, managed by OS.  They are\n",
    "more easy to create.  Since threads share resources, you can convert\n",
    "your single-thread code to a multithreaded one with just a bit of\n",
    "changes.\n",
    "\n",
    "On the other hand, sharing resources and OS-managed-context-switching\n",
    "means that you need to pay attention to tread safety.  It also\n",
    "add complications to signal handling (like raising KeyboardInterrupt).\n",
    "\n",
    "Threads are expensive, still not so expensive as processes.\n",
    "In Python they allow to execute the code concurrently,\n",
    "but not in parallel.\n",
    "\n",
    "---\n",
    "\n",
    "**Multitasking**\n",
    "<div align=\"center\"><img src=\"../images/four%20rock%20doves%20on%20gray%20floor.jpg\" alt=\"four rock doves on gray floor\" width=\"200\"/><small><a href=\"../CREDITS.md\">credits</a></small></div>\n",
    "\n",
    "Allows to execute concurrent tasks that share common computation\n",
    "resources, such as CPU and RAM.\n",
    "\n",
    "With **cooperative multitasking**, the process (the program) decides\n",
    "itself when to interrupt its execution and yield control to\n",
    "other processes.\n",
    "\n",
    "Cooperative multitasking allows simpler implementations, since there is\n",
    "no implicit context switching and no thread safety is needed.\n",
    "It allows to have a high number of tasks executed concurrently.\n",
    "\n",
    "Still, creating applications with cooperative multitasking require\n",
    "care to make sure each task fairly use the computation resources\n",
    "and timely yields control.  Also a high number of tasks still\n",
    "can affect the application performance.\n",
    "\n",
    "---"
   ]
  },
  {
   "cell_type": "markdown",
   "metadata": {
    "id": "e5_4gQmi6sL5"
   },
   "source": [
    "### Questions"
   ]
  },
  {
   "cell_type": "markdown",
   "metadata": {},
   "source": [
    "**1. Can you see, when it is better to use multiprocessing in your code? Multithreading? Multitasking?**"
   ]
  },
  {
   "cell_type": "markdown",
   "metadata": {},
   "source": [
    "**2. This is how one could create an infinitely-sleeping program:**"
   ]
  },
  {
   "cell_type": "markdown",
   "metadata": {
    "scrolled": false
   },
   "source": [
    "```python\n",
    "from time import sleep\n",
    "\n",
    "while True:\n",
    "    sleep(1)\n",
    "```"
   ]
  },
  {
   "cell_type": "markdown",
   "metadata": {},
   "source": [
    "**Why `sleep(1)` is needed here?**"
   ]
  },
  {
   "cell_type": "markdown",
   "metadata": {
    "id": "e5_4gQmi6sL5"
   },
   "source": [
    "# What is \"async\" and \"asynchronous\""
   ]
  },
  {
   "cell_type": "markdown",
   "metadata": {
    "id": "yr7oOBUgqi79"
   },
   "source": [
    "**Asynchronous code**\n",
    "\n",
    "<div align=\"center\"><img src=\"../images/finches%20and%20a%20feeder.jpg\" alt=\"finches and a feeder\" width=\"200\"/><small><a href=\"../CREDITS.md\">credits</a></small></div>\n",
    "\n",
    "is code that deals with events that occur independently of the main program flow.\n",
    "\n",
    "One of the ways to create such code for cooperative multitasking is to use **coroutines** – objects that provide an abstraction of an ongoing event.\n",
    "\n",
    "Coroutines provide an interface to suspend and resume their execution."
   ]
  },
  {
   "cell_type": "markdown",
   "metadata": {
    "id": "e5_4gQmi6sL5"
   },
   "source": [
    "### Let's write our own asynchronous code"
   ]
  },
  {
   "cell_type": "markdown",
   "metadata": {},
   "source": [
    "First, let's simulate some external events, like a user pressing one of the arrow keys on a keyboard.  The code below is rather complex, but here what it does.\n",
    "\n",
    "For every `period` (1 second by default), a `UserInput` instance sets a value of a key, pressed by a simulated user.  By default there is only a 30% probability that the value is to be one of the arrow keys, and 70% probability that the value is None (no event exists) for a given `period`."
   ]
  },
  {
   "cell_type": "code",
   "execution_count": null,
   "metadata": {},
   "outputs": [],
   "source": [
    "from dataclasses import dataclass\n",
    "from random import choice, random\n",
    "from time import monotonic, sleep\n",
    "from typing import Iterable, Optional\n",
    "from warnings import warn\n",
    "\n",
    "\n",
    "@dataclass\n",
    "class UserInput:\n",
    "    \"\"\"User input representation.\"\"\"\n",
    "    period: float = 1.0\n",
    "    choices: Iterable[str] = \"⟹⟸⇑⇓\"\n",
    "    pressed_probability: float = 0.3\n",
    "\n",
    "    def __post_init__(self):\n",
    "        self._last_event_time = monotonic()\n",
    "        self._last_event = None\n",
    "\n",
    "    def get_key(self) -> Optional[str]:\n",
    "        \"\"\"Decide if a user pressed some key, and return its symbol.\"\"\"\n",
    "        current_time = monotonic()\n",
    "        time_since_last_event =  current_time - self._last_event_time\n",
    "        if time_since_last_event < self.period:\n",
    "            return self._last_event\n",
    "        \n",
    "        if time_since_last_event / 2 > self.period:\n",
    "            warn(\n",
    "                f\"Getting the pressed key is delayed by { time_since_last_event - self.period } seconds, \"\n",
    "                + \"previous events may be lost.\"\n",
    "            )\n",
    "\n",
    "        self._last_event_time = current_time - (time_since_last_event % self.period)\n",
    "        self._last_event = choice(self.choices) if self.pressed_probability > random() else None\n",
    "\n",
    "        return self._last_event"
   ]
  },
  {
   "cell_type": "markdown",
   "metadata": {},
   "source": [
    "Here is an example on how it works:"
   ]
  },
  {
   "cell_type": "code",
   "execution_count": null,
   "metadata": {},
   "outputs": [],
   "source": [
    "from time import monotonic, sleep\n",
    "\n",
    "\n",
    "user_input = UserInput(1)\n",
    "\n",
    "\n",
    "for _ in range(10):\n",
    "    print(\"Key pressed:\", user_input.get_key())\n",
    "    sleep(1)"
   ]
  },
  {
   "cell_type": "markdown",
   "metadata": {},
   "source": [
    "---\n",
    "If you're familar with [generators](https://docs.python.org/3/glossary.html#term-generator), here is how you could use one to implement a coroutine that handles a user input:"
   ]
  },
  {
   "cell_type": "code",
   "execution_count": null,
   "metadata": {},
   "outputs": [],
   "source": [
    "def handle_character_move(user_input: UserInput) -> Iterable:\n",
    "    \"\"\"Get the user input and do something.\"\"\"\n",
    "    movements = dict(zip(\"⟹⟸⇑⇓\", [\"right\", \"left\", \"up\", \"down\"]))\n",
    "    \n",
    "    while True:\n",
    "        key_pressed = user_input.get_key()    \n",
    "        yield movements.get(key_pressed, \"stay\")\n",
    "\n",
    "\n",
    "user_input = UserInput(1)\n",
    "\n",
    "\n",
    "for _, action in zip(range(10), handle_character_move(user_input)):\n",
    "    print(\"MAIN FLOW: Key pressed:\", user_input.get_key())\n",
    "    print(\"COROUTINE:\", action)\n",
    "    sleep(1)"
   ]
  },
  {
   "cell_type": "markdown",
   "metadata": {},
   "source": [
    "---\n",
    "Now, a little bit of refactoring, to call `user_input.get_key()` just once.  Did you know that you could [send values](https://docs.python.org/3/reference/expressions.html#generator.send) to the generator-coroutine?  Also, to save resources, let's wake it up only when there is some user input."
   ]
  },
  {
   "cell_type": "code",
   "execution_count": null,
   "metadata": {},
   "outputs": [],
   "source": [
    "def handle_character_move() -> Iterable:\n",
    "    \"\"\"Get the user input and do something.\"\"\"\n",
    "    movements = dict(zip(\"⟹⟸⇑⇓\", [\"right\", \"left\", \"up\", \"down\"]))\n",
    "    key_pressed = None\n",
    "    \n",
    "    while True:\n",
    "        action = movements.get(key_pressed, \"stay\")\n",
    "        key_pressed = (yield action)\n",
    "\n",
    "\n",
    "user_input = UserInput(1)\n",
    "\n",
    "# Initialize a generator\n",
    "character_move_coroutine = handle_character_move()\n",
    "\n",
    "# Let it run till the first `yield`.\n",
    "# `character_move_coroutine.send(None)` would also work:\n",
    "next(character_move_coroutine)\n",
    "\n",
    "try:\n",
    "    for _ in range(10):\n",
    "        key = user_input.get_key()\n",
    "        print(\"MAIN FLOW: Key pressed:\", key)\n",
    "        if key is not None:\n",
    "            print(\"COROUTINE:\", character_move_coroutine.send(key))\n",
    "        sleep(1)\n",
    "finally:\n",
    "    character_move_coroutine.close()"
   ]
  },
  {
   "cell_type": "markdown",
   "metadata": {
    "id": "e5_4gQmi6sL5"
   },
   "source": [
    "### Questions"
   ]
  },
  {
   "cell_type": "markdown",
   "metadata": {},
   "source": [
    "**1. The example above shouws you how an event loop and a coroutine works.  Do you see a problem with this event loop implementation?**"
   ]
  },
  {
   "cell_type": "markdown",
   "metadata": {},
   "source": [
    "**1.1. What if you make events apper faster? Try to increase the speed of events occurrence by changing `user_input = UserInput(1)` to `user_input = UserInput(0.1)`**"
   ]
  },
  {
   "cell_type": "markdown",
   "metadata": {
    "id": "e5_4gQmi6sL5"
   },
   "source": [
    "**2. Compare the example above to some of the other applications:**\n",
    "\n",
    "* [pygame](https://www.pygame.org/docs/tut/PygameIntro.html#taste);\n",
    "* [tkinter](https://docs.python.org/3/library/tkinter.html#a-simple-hello-world-program);\n",
    "* [curio](https://curio.readthedocs.io/en/latest/tutorial.html#getting-started).\n",
    "\n",
    "Do you see where the event loop is started there?"
   ]
  },
  {
   "cell_type": "markdown",
   "metadata": {},
   "source": [
    "**3. Generators have `send` and `trow` methods.  What are they needed for?**"
   ]
  },
  {
   "cell_type": "markdown",
   "metadata": {},
   "source": [
    "👉 *Coroutines are not the only way to create asynchronous code, but the most readable one.  And `async` is the syntax sugar for a coroutine definition* 👈"
   ]
  },
  {
   "cell_type": "markdown",
   "metadata": {
    "id": "e5_4gQmi6sL5"
   },
   "source": [
    "# Coroutine objects"
   ]
  },
  {
   "cell_type": "markdown",
   "metadata": {},
   "source": [
    "---\n",
    "Let's create a coroutine and examine it."
   ]
  },
  {
   "cell_type": "code",
   "execution_count": null,
   "metadata": {},
   "outputs": [],
   "source": [
    "async def coro():\n",
    "    print(\"I am a coroutine!\")"
   ]
  },
  {
   "cell_type": "code",
   "execution_count": null,
   "metadata": {},
   "outputs": [],
   "source": [
    "coroutine = coro()\n",
    "coroutine"
   ]
  },
  {
   "cell_type": "code",
   "execution_count": null,
   "metadata": {},
   "outputs": [],
   "source": [
    "dir(coroutine)"
   ]
  },
  {
   "cell_type": "code",
   "execution_count": null,
   "metadata": {},
   "outputs": [],
   "source": [
    "coroutine.send(None)"
   ]
  },
  {
   "cell_type": "markdown",
   "metadata": {},
   "source": [
    "👉 *Like generators, coroutines have `send` and `throw` methods, and raise `StopIteration` when exhousted.* 👈\n",
    "\n",
    "But, unlike generators, you can not iterate a coroutine till the end, since there are no `__iter__` and `__next__` methods.  Instead, there is `__await__` method, so you can `await` for it."
   ]
  },
  {
   "cell_type": "code",
   "execution_count": null,
   "metadata": {},
   "outputs": [],
   "source": [
    "async def no_op():\n",
    "    return\n",
    "\n",
    "\n",
    "async def async_coroutine():\n",
    "    for i in range(5):\n",
    "        print(\"async_coroutine iteration\", i)\n",
    "        await no_op()\n",
    "\n",
    "\n",
    "def sync_coroutine():\n",
    "    for i in range(5):\n",
    "        print(\"sync_coroutine iteration\", i)\n",
    "        yield\n",
    "    "
   ]
  },
  {
   "cell_type": "code",
   "execution_count": null,
   "metadata": {},
   "outputs": [],
   "source": [
    "for _ in sync_coroutine():\n",
    "    pass\n",
    "\n",
    "\n",
    "print(\"=\" * 17)\n",
    "\n",
    "\n",
    "for _ in async_coroutine().__await__():\n",
    "    pass\n"
   ]
  },
  {
   "cell_type": "markdown",
   "metadata": {},
   "source": [
    "👉 *Using `async` and `await` does not automatically make your code asynchronous.* 👈\n",
    "\n",
    "---\n",
    "Coroutines and generators look similar, also there is one key difference: `__await__` lets processing the whole coroutine on one go.  The behavior here is more close to `yield from` comparing to `yield`"
   ]
  },
  {
   "cell_type": "code",
   "execution_count": null,
   "metadata": {},
   "outputs": [],
   "source": [
    "from time import sleep\n",
    "\n",
    "\n",
    "for i, _ in enumerate(sync_coroutine()):\n",
    "    print(\"outer sync_coroutine iteration:\", i)\n",
    "    sleep(1)\n",
    "\n",
    "\n",
    "print(\"=\" * 17)\n",
    "\n",
    "\n",
    "for i, _ in enumerate(async_coroutine().__await__()):\n",
    "    print(\"outer async_coroutine iteration:\", i)\n",
    "    sleep(1)\n"
   ]
  },
  {
   "cell_type": "markdown",
   "metadata": {},
   "source": [
    "Coroutine will yield only if some underlying code have to yield."
   ]
  },
  {
   "cell_type": "code",
   "execution_count": null,
   "metadata": {},
   "outputs": [],
   "source": [
    "class Awaitable:\n",
    "    def __await__(self):\n",
    "        for i in range(3):\n",
    "            print(\"index from awaitable:\", i)\n",
    "            yield i\n",
    "        return \"Ok\"\n",
    "\n",
    "\n",
    "async def async_coroutine():\n",
    "    awaitable = Awaitable()\n",
    "    for i in range(5):\n",
    "        print(\"coroutine iteration\", i)\n",
    "        result = await awaitable\n",
    "        print(\"Awaitable says:\", result)\n",
    "        print(\"=\" * 21)\n",
    "        \n",
    "\n",
    "\n",
    "for i, j in enumerate(async_coroutine().__await__()):\n",
    "    print(\"outer iteration:\", i)\n",
    "    print(\"coroutine iteration result:\", j)\n",
    "    print(\"-\" * 23)\n",
    "    sleep(1)\n"
   ]
  },
  {
   "cell_type": "markdown",
   "metadata": {},
   "source": [
    "---\n",
    "Take a look at `coroutine iteration result` printed out of the main loop.  You can see that the loop and `Awaitable` keep chatting one to another, while `async_coroutine` waits for `Awaitable` to return some final value.\n",
    "\n",
    "That's how a typical `async`/`await` application looks like:\n",
    "\n",
    "<div align=\"center\"><img src=\"../images/birds%20on%20a%20wire.jpg\" alt=\"birds on a wire\" width=\"200\"/><small><a href=\"../CREDITS.md\">credits</a></small></div>\n",
    "\n",
    "The main loop at one end.\n",
    "Awaitables that know how to communicate to the loop – at the other end.\n",
    "\n",
    "And your code pipes one end to another via `async` and `await`.\n",
    "\n",
    "![piping async code](../images/piping-async-code.png)\n",
    "\n",
    "Examples of such \"special awaitables\" are `asyncio.sleep`, `curio.sleep` and `trio.sleep`."
   ]
  },
  {
   "cell_type": "markdown",
   "metadata": {},
   "source": [
    "---\n",
    "Let's now reimplement our example of a fake movement for a fake user input."
   ]
  },
  {
   "cell_type": "code",
   "execution_count": null,
   "metadata": {},
   "outputs": [],
   "source": [
    "# Your code is here:\n",
    "\n",
    "async def handle_character_move() -> Iterable:\n",
    "    \"\"\"Get the user input and do something.\"\"\"\n",
    "    movements = dict(zip(\"⟹⟸⇑⇓\", [\"right\", \"left\", \"up\", \"down\"]))\n",
    "    \n",
    "    for _ in range(5):\n",
    "        key_pressed = await get_key_pressed()\n",
    "        print(\"ACTION:\", movements.get(key_pressed, \"stay\"))\n",
    "\n",
    "\n",
    "# The async framework code is below:\n",
    "\n",
    "class InputProvider:\n",
    "    \"\"\"Awaitable that redirects input to the awaiting coroutine.\"\"\"\n",
    "    def __await__(self):\n",
    "        output = None\n",
    "        while output is None:\n",
    "            print(\".\", end=\"\")\n",
    "            output = yield\n",
    "        print()\n",
    "        return output\n",
    "\n",
    "\n",
    "async def get_key_pressed():\n",
    "    \"\"\"Provide pressed key character.\"\"\"\n",
    "    return await InputProvider()\n",
    "\n",
    "\n",
    "# Here the event loop is inside:\n",
    "\n",
    "def run(coroutine):\n",
    "    \"\"\"Run a coroutine.\"\"\"\n",
    "    from time import sleep\n",
    "\n",
    "    user_input = UserInput(1)\n",
    "\n",
    "    try:\n",
    "        # Run the coroutine until first downstream `yield`\n",
    "        coroutine.send(None)\n",
    "\n",
    "        while True:\n",
    "            coroutine.send(user_input.get_key())\n",
    "            sleep(1)\n",
    "\n",
    "    except StopIteration:\n",
    "        print(\"Bye!\")\n",
    "\n",
    "\n",
    "# Plug it in!\n",
    "run(handle_character_move())"
   ]
  },
  {
   "cell_type": "markdown",
   "metadata": {},
   "source": [
    "# Conclusions"
   ]
  },
  {
   "cell_type": "markdown",
   "metadata": {},
   "source": [
    "1. For simple cases of concurency consider using multithreading.  If you need heavy computations or true parallelism, use multiprocessing approach, or even a distributed application.\n",
    "2. Multitasking and coroutines are good for I/O operations.  Also *multiprocessing applications* can be written in asynchronous style.\n",
    "3. Python does great job hiding implementation details behind `async` and `await` keywords, making them look similar to regular synchronous code.\n",
    "4. Python coroutines do not need `asyncio` to be executed.  `asyncio` is just one of the asynchronous frameworks that are able to run your asyncronous code."
   ]
  },
  {
   "cell_type": "markdown",
   "metadata": {},
   "source": [
    "<span style=\"font-size: x-large\">Add your code below:</span>"
   ]
  },
  {
   "cell_type": "code",
   "execution_count": null,
   "metadata": {},
   "outputs": [],
   "source": []
  }
 ],
 "metadata": {
  "colab": {
   "name": "101 Asynchronous programming with Python - module 1.ipynb",
   "provenance": []
  },
  "kernelspec": {
   "display_name": "Python 3",
   "language": "python",
   "name": "python3"
  },
  "language_info": {
   "codemirror_mode": {
    "name": "ipython",
    "version": 3
   },
   "file_extension": ".py",
   "mimetype": "text/x-python",
   "name": "python",
   "nbconvert_exporter": "python",
   "pygments_lexer": "ipython3",
   "version": "3.7.6"
  }
 },
 "nbformat": 4,
 "nbformat_minor": 1
}